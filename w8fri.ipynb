{
 "cells": [
  {
   "attachments": {},
   "cell_type": "markdown",
   "metadata": {},
   "source": [
    "# Q1\n",
    "\n",
    "$$\n",
    "(x - p)(x - q) = x^2 - 34x + 253\n",
    "$$\n",
    "\n",
    "Use this info to find $\\phi(n)$ without factoring $n = pq$\n",
    "\n",
    "$$\n",
    "(x - p)(x - q) = x^2 - 34x + 253\\\\\n",
    "(p - x)(q - x) = x^2 - 34x + 253\\\\\n",
    "(p - 1)(q - 1) = 1^2 - 341 + 253\\\\\n",
    "(p - 1)(q - 1) = \\phi(n)\n",
    "$$"
   ]
  },
  {
   "cell_type": "code",
   "execution_count": 27,
   "metadata": {},
   "outputs": [
    {
     "data": {
      "text/plain": [
       "False"
      ]
     },
     "execution_count": 27,
     "metadata": {},
     "output_type": "execute_result"
    }
   ],
   "source": [
    "# Check if 253 is prime\n",
    "# -- if any \n",
    "def isPrime(n):\n",
    "    return not any([n % i == 1 for i in range(2,n-1)])\n",
    "\n",
    "isPrime(17)\n",
    "\n",
    "\n",
    "# Edit; I am an idiot"
   ]
  },
  {
   "attachments": {},
   "cell_type": "markdown",
   "metadata": {},
   "source": [
    "# Lecture Notes\n",
    "\n",
    "## Order, Primitive Roots\n",
    "\n",
    "g,n fixed"
   ]
  },
  {
   "attachments": {},
   "cell_type": "markdown",
   "metadata": {},
   "source": [
    "### Obs 1\n",
    "I can compute $g^m$ mod n \n",
    "- for any $m$ quickly \n",
    "- using binary exp\n",
    "\n",
    "Ex\n",
    "$$\n",
    "g,n,m = 2, 11, 9\\\\\n",
    "\n",
    "2^2 = 4\\\\\n",
    "2^4 = 4^2 = 16 \\equiv 5 \\text{\\qquad (mod 11)} \\\\\n",
    "2^8 = 5^2 = 25 \\equiv 4 \\text{\\qquad (mod 11)} \\\\\n",
    "2^9 = 4*2 = 8\n",
    "$$\n",
    "\n",
    "4 operations to get to 2^4 mod 11"
   ]
  },
  {
   "attachments": {},
   "cell_type": "markdown",
   "metadata": {},
   "source": [
    "### Obs 2\n",
    "If I just tell you the value of $g^m$ mod n without telling you $m$, it can be hard to find $m$...!\n",
    "\n",
    "6 is some pwoer of 2 mod 11\n",
    "\n",
    "$$\n",
    "2 \\neq 6\\\\\n",
    "2^2 = 4 \\neq 6\\\\\n",
    "2^3 = 8 \\neq 6\\\\\n",
    "2^4 = 16 \\equiv 5 \\neq 6\\\\\n",
    "2^5 = 10 \\neq 6\\\\\n",
    "2^6 = 20 \\equiv 9 \\neq 6\\\\\n",
    "2^7 = 18 \\equiv 7 \\neq 6\\\\\n",
    "2^8 = 14 \\equiv 3 \\neq 6\n",
    "$$\n",
    "\n",
    "Really had to go through 9 operations\n",
    "\n",
    "This asymmetry can be exploited to do cryptography"
   ]
  },
  {
   "attachments": {},
   "cell_type": "markdown",
   "metadata": {},
   "source": [
    "### Defn\n",
    "Order of g mod n\n",
    "- It's smallest pos $k$ s.t.\n",
    "$$\n",
    "g^k m \\equiv 1 \\text{\\qquad mod n}\n",
    "$$\n",
    "\n",
    "- It's the number of different numbers that you can get as $g^m$ mod n for varying $m$\n",
    "  - AKA it's the number of congruence classes for powers $g^m$ under mod n\n",
    "\n",
    "- The 10 numbers 1,..., 10 all show up as powers of 2 mod 11\n",
    "  - So 2 has order10 mod 11"
   ]
  },
  {
   "attachments": {},
   "cell_type": "markdown",
   "metadata": {},
   "source": [
    "## Fact\n",
    "\n",
    "Order is always a divisor of $\\phi(n)$ (Euler's Thm)\n",
    "\n",
    "The calculation in Obs 2 is as hard as possible when order is as large as possible\n",
    "- i.e. when ord = $\\phi(n)$\n",
    "- Would have $\\phi(n)$ congruence classes to go through to before we loop\n",
    "\n",
    "In this case, g is a **primitive root** mod n"
   ]
  },
  {
   "attachments": {},
   "cell_type": "markdown",
   "metadata": {},
   "source": [
    "### Q&A\n",
    "\n",
    "- **Not true that any n has a primitive root**\n",
    "\n",
    "- To have a primitive root,\n",
    "$$\n",
    "n = 2, 4, p^k, 2p^k\n",
    "$$\n",
    "> for odd p & positive k\n",
    "\n",
    "- Case when n is prime, and this thm says that \n",
    "    > Any prime DOES have a prim root\n",
    "\n",
    "- Leting g be a primitive root maxes out order ($\\phi(n)$)\n",
    "\n",
    "- Letting n be prime makes ($\\phi(n)$) as big as possible AND guarantees a primitive root\n",
    "\n",
    "- To do cryptography, n = p will be a big prime, (g prim root mod p)"
   ]
  },
  {
   "attachments": {},
   "cell_type": "markdown",
   "metadata": {},
   "source": [
    "## Q2\n",
    "\n",
    "Suppose a is an integer that is not divisible by 13. Which of hte following cannot be the order of a [mod n]\n",
    "\n",
    "- so a is coprime\n",
    "- orders must be factors of $\\phi(13) = 12$ so 2,3,4,6\n",
    "\n",
    "A) 2\n",
    "B) 3\n",
    "C) 4\n",
    "D) 5"
   ]
  },
  {
   "attachments": {},
   "cell_type": "markdown",
   "metadata": {},
   "source": [
    "### Q3\n",
    "\n",
    "What is the order of 4 mod 13?\n",
    "\n",
    "k   | 4^k   | 4^k mod 13\n",
    "--- | ---   | ---\n",
    "1   | 4     | 4\n",
    "2   | 16    | 3\n",
    "3   | 12    | 12\n",
    "4   | 48    | 9\n",
    "5   | 36    | 10\n",
    "6   | 40    | 1\n",
    "\n",
    "SEE THE BIG PICTURE (LOOK AT Q2)\n",
    "> Well you know that order cannot be 5 so you should've just checked and 2, 3, 4, 6\n"
   ]
  },
  {
   "attachments": {},
   "cell_type": "markdown",
   "metadata": {},
   "source": [
    "### Q4\n",
    "\n",
    "Which of the following is a primitie root of 17?\n",
    "\n",
    "which has order of 16?\n",
    "\n",
    "2^6 = 64"
   ]
  },
  {
   "cell_type": "code",
   "execution_count": 31,
   "metadata": {},
   "outputs": [
    {
     "data": {
      "text/plain": [
       "(8, 16, 4)"
      ]
     },
     "execution_count": 31,
     "metadata": {},
     "output_type": "execute_result"
    }
   ],
   "source": [
    "def helper(a, n):\n",
    "    for i in [2, 4, 6, 8, 16]:\n",
    "        if a**i % n == 1:\n",
    "            return i\n",
    "\n",
    "helper(2, 17), helper(3, 17), helper(4, 17)"
   ]
  },
  {
   "cell_type": "code",
   "execution_count": 28,
   "metadata": {},
   "outputs": [],
   "source": [
    "# Sieve of Aritosthenes\n",
    "\"\"\"\n",
    "This was a side project of mine from around a year ago\n",
    "\n",
    "Programming a way to generate a prime list using the \n",
    "sieve of Aritosthenes method\n",
    "\"\"\"\n",
    "\n",
    "def run_sieve(n = 20):\n",
    "    primes = [1]\n",
    "    mults = [1]\n",
    "\n",
    "    for i in range(2,n+1):\n",
    "        if (i not in mults):\n",
    "            primes.append(i)\n",
    "            [mults.append(i*j) for j in range(i, n//i+1)]\n",
    "    \n",
    "    return primes"
   ]
  },
  {
   "cell_type": "code",
   "execution_count": 29,
   "metadata": {},
   "outputs": [
    {
     "data": {
      "text/plain": [
       "[False, False, True, True]"
      ]
     },
     "execution_count": 29,
     "metadata": {},
     "output_type": "execute_result"
    }
   ],
   "source": [
    "def is_prime(n):\n",
    "    return not any([n%i == 0 for i in range(2, int(n**.5)+1)])\n",
    "\n",
    "[is_prime(a) for a in [9, 10, 11, 701]]"
   ]
  },
  {
   "cell_type": "code",
   "execution_count": 30,
   "metadata": {},
   "outputs": [
    {
     "data": {
      "text/plain": [
       "[[1, 1231], [1, 2, 2, 2, 2, 7, 11]]"
      ]
     },
     "execution_count": 30,
     "metadata": {},
     "output_type": "execute_result"
    }
   ],
   "source": [
    "class continue_outer(Exception):\n",
    "    pass\n",
    "\n",
    "def get_prime_factorization(n):\n",
    "    sqrt_n = int(n**.5) + 1\n",
    "    primes = run_sieve(sqrt_n)\n",
    "\n",
    "    primelist = []\n",
    "    while (n != 1):\n",
    "        try:\n",
    "            for k in primes[1:]:\n",
    "                if n%k==0:\n",
    "                    primelist.append(k)\n",
    "                    n //= k\n",
    "                    raise continue_outer\n",
    "        except continue_outer:\n",
    "            continue\n",
    "        primelist.append(n)\n",
    "        n //= n\n",
    "    return [1] + primelist\n",
    "\n",
    "[get_prime_factorization(i) for i in [1231, 1232]]"
   ]
  },
  {
   "cell_type": "code",
   "execution_count": 36,
   "metadata": {},
   "outputs": [
    {
     "data": {
      "text/plain": [
       "[8, 20, 8, 24, 16]"
      ]
     },
     "execution_count": 36,
     "metadata": {},
     "output_type": "execute_result"
    }
   ],
   "source": [
    "from functools import reduce\n",
    "from collections import Counter\n",
    "\n",
    "def phi(n):\n",
    "    return reduce(lambda a,b: a*b, [p**(e-1) * (p-1) for p,e in Counter(get_prime_factorization(n)[1:]).items()], 1)\n",
    "\n",
    "# Test with the other phi function defined\n",
    "# phi_e(20) == phi(20), phi_e(25) == phi(25), phi_e(30) == phi(30), phi_e(35) == phi(35), phi_e(40) == phi(40)\n",
    "\n",
    "[phi(v) for v in [20, 25, 30, 35, 40]]"
   ]
  },
  {
   "cell_type": "code",
   "execution_count": 72,
   "metadata": {},
   "outputs": [
    {
     "data": {
      "text/plain": [
       "[(3, 20),\n",
       " (13, 20),\n",
       " (17, 20),\n",
       " (23, 20),\n",
       " (27, 20),\n",
       " (33, 20),\n",
       " (37, 20),\n",
       " (47, 20),\n",
       " (9, 10),\n",
       " (19, 10),\n",
       " (29, 10),\n",
       " (39, 10),\n",
       " (11, 5),\n",
       " (21, 5),\n",
       " (31, 5),\n",
       " (41, 5),\n",
       " (7, 4),\n",
       " (43, 4),\n",
       " (49, 2),\n",
       " (1, 1)]"
      ]
     },
     "execution_count": 72,
     "metadata": {},
     "output_type": "execute_result"
    }
   ],
   "source": [
    "def order(a, n):\n",
    "    for k in [i for i in range(1, phi(n)+1) if phi(n)%i == 0]:\n",
    "        # print(f\"{a}**{k} === {a**k % n} (mod {n})\")\n",
    "        if a**k % n == 1:\n",
    "            return k\n",
    "\n",
    "n = 50\n",
    "sorted({a:order(a, n) for a in range(1, n) if order(a, n)}.items(), key=lambda kv: kv[1], reverse=True)"
   ]
  }
 ],
 "metadata": {
  "kernelspec": {
   "display_name": "Python 3",
   "language": "python",
   "name": "python3"
  },
  "language_info": {
   "codemirror_mode": {
    "name": "ipython",
    "version": 3
   },
   "file_extension": ".py",
   "mimetype": "text/x-python",
   "name": "python",
   "nbconvert_exporter": "python",
   "pygments_lexer": "ipython3",
   "version": "3.10.1"
  },
  "orig_nbformat": 4,
  "vscode": {
   "interpreter": {
    "hash": "40430081c420884bc0c6cacdd19468c594457515a272ed1024804e3b83ddb8db"
   }
  }
 },
 "nbformat": 4,
 "nbformat_minor": 2
}
