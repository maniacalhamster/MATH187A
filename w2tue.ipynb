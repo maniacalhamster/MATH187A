{
 "cells": [
  {
   "attachments": {},
   "cell_type": "markdown",
   "metadata": {},
   "source": [
    "## General Recap\n",
    "\n",
    "Find GCD using Euclidean algo\n",
    "\n",
    "Work backwards from Euclidean algo \"leftovers\" to get Bezout Coeffs\n",
    "> note that B-Coeffs are not unique\n",
    "\n",
    "### Defn of inverse:\n",
    "$$\n",
    "x = a^{-1} \\text{  (mod n)} \\\\\n",
    "xa \\equiv ax \\equiv 1 \\text{  (mod n)}\n",
    "$$"
   ]
  },
  {
   "attachments": {},
   "cell_type": "markdown",
   "metadata": {},
   "source": [
    "## Inverse Problem\n",
    "$9x \\equiv 1$ (mod 13)\n",
    "\n",
    "Find x\n",
    "\n",
    "### Approach 1\n",
    "```\n",
    "13 + 1 = 14 (not a multiple of 9)\n",
    "\n",
    "26 + 1 = 27 (IS a multiple of 9)\n",
    "```\n",
    "\n",
    "x = 3\n",
    "\n",
    "### Approach 2\n",
    "```\n",
    "13 = 1(9) + 4\n",
    "9 = 2(4) + 1\n",
    "4 = 4(1) + 0\n",
    "\n",
    "9 - 2(4) = 1\n",
    "9 - 2(13 - 9) = 1\n",
    "3(9) - 2(13) = 1\n",
    "```\n",
    "\n",
    "Thus x = 3"
   ]
  },
  {
   "attachments": {},
   "cell_type": "markdown",
   "metadata": {},
   "source": [
    "## Applying Inverse Problem\n",
    "\n",
    "$9z \\equiv 2$ (mod 13)\n",
    "\n",
    "We know that $3 = 9^{-1}$ (mod 13)\n",
    "\n",
    "$$\n",
    "9z \\equiv 2 \\text{  (mod 13)}\\\\\n",
    "3(9z) \\equiv 3(2) \\text{  (mod 13)}\\\\\n",
    "(3\\times 9)z \\equiv 3(2) \\text{  (mod 13)}\\\\\n",
    "1z \\equiv 3(2) \\text{  (mod 13)}\\\\\n",
    "z \\equiv 6 \\text{  (mod 13)}\\\\"
   ]
  },
  {
   "attachments": {},
   "cell_type": "markdown",
   "metadata": {},
   "source": [
    "## Quiz\n",
    "\n",
    "Which of the following integers are invertible mod 210?\n",
    "\n",
    "A) 3  \n",
    "B) 4  \n",
    "C) 5  \n",
    "D) None of the above"
   ]
  },
  {
   "cell_type": "code",
   "execution_count": 1,
   "metadata": {},
   "outputs": [
    {
     "data": {
      "text/plain": [
       "(3, 2, 5)"
      ]
     },
     "execution_count": 1,
     "metadata": {},
     "output_type": "execute_result"
    }
   ],
   "source": [
    "# Assuming a >= b\n",
    "def gcd(a, b):\n",
    "    if (a % b == 0):\n",
    "        return b\n",
    "    return gcd(b, a % b)\n",
    "\n",
    "gcd(3, 210), gcd(4, 210), gcd(5, 210)"
   ]
  },
  {
   "attachments": {},
   "cell_type": "markdown",
   "metadata": {},
   "source": [
    "### Ans\n",
    "\n",
    "See code block above, none of the GCD are 1 (refer to [Modular Inverstion Theorem](./GCD.ipynb#Modular-Inversion-Theorem-2.5.14))\n",
    "\n",
    "D) none of the above"
   ]
  },
  {
   "attachments": {},
   "cell_type": "markdown",
   "metadata": {},
   "source": [
    "## Quiz 2\n",
    "\n",
    "How many divisions do we need to do till we see a remainder of 0 when we use the Euclidean algorithm to compute gcd(150 90)?\n",
    "\n",
    "A) 1  \n",
    "B) 2  \n",
    "C) 3  \n",
    "D) None of the above"
   ]
  },
  {
   "cell_type": "code",
   "execution_count": 4,
   "metadata": {},
   "outputs": [
    {
     "data": {
      "text/plain": [
       "(60, 30, 0)"
      ]
     },
     "execution_count": 4,
     "metadata": {},
     "output_type": "execute_result"
    }
   ],
   "source": [
    "150 % 90, 90 % 60, 60 % 30"
   ]
  },
  {
   "attachments": {},
   "cell_type": "markdown",
   "metadata": {},
   "source": [
    "### Ans\n",
    "\n",
    "See code block above, had to run modulo 3 times to get a remainder of 0\n",
    "\n",
    "C) 3"
   ]
  },
  {
   "attachments": {},
   "cell_type": "markdown",
   "metadata": {},
   "source": [
    "## Quiz 3\n",
    "\n",
    "Find Bezout Coeffs for GCD(150, 90)"
   ]
  },
  {
   "attachments": {},
   "cell_type": "markdown",
   "metadata": {},
   "source": [
    "### Ans\n",
    "\n",
    "```\n",
    "150 = 90 + 60\n",
    "90  = 60 + 30\n",
    "60  = 2(30)\n",
    "\n",
    "90 - 60 = 30\n",
    "90 - (150 - 90) = 30\n",
    "2(90) - 150 = 30 \n",
    "\n",
    "2(90) - 1(150) = gcd(150, 90)\n",
    "\n",
    "x, y = (-1, 2) \n",
    "for gcd(150, 90)\n",
    "```"
   ]
  },
  {
   "cell_type": "code",
   "execution_count": 9,
   "metadata": {},
   "outputs": [
    {
     "data": {
      "text/plain": [
       "(1, 23, 8, 1)"
      ]
     },
     "execution_count": 9,
     "metadata": {},
     "output_type": "execute_result"
    }
   ],
   "source": [
    "# For scratchwork\n",
    "gcd(131, 54), 131%54, 54%23, -7*131+17*54"
   ]
  },
  {
   "attachments": {},
   "cell_type": "markdown",
   "metadata": {},
   "source": [
    "```\n",
    "131 = 2(54) + 23\n",
    "54 = 2(23) + 8\n",
    "23 = 2(8) + 7\n",
    "8 = 7 + 1\n",
    "\n",
    "\n",
    "8 - 7 = 1\n",
    "8 - (23 -2(8)) = 1\n",
    "3(8) - 23 = 1\n",
    "3(54 - 2(23)) - 23 = 1\n",
    "3(54) - 7(23) = 1\n",
    "3(54) - 7(131 - 2(54)) = 1\n",
    "17(54) - 7(131) = 1\n",
    "\n",
    "x, y = (-7, 17)\n",
    "for gcd(131, 54)\n",
    "```\n",
    "\n",
    "#### For Alli:\n",
    "79-81-16-81-6\n",
    "\n",
    "ANS: $ 17 = 54^{-1} $ (mod 131)"
   ]
  }
 ],
 "metadata": {
  "kernelspec": {
   "display_name": "Python 3",
   "language": "python",
   "name": "python3"
  },
  "language_info": {
   "codemirror_mode": {
    "name": "ipython",
    "version": 3
   },
   "file_extension": ".py",
   "mimetype": "text/x-python",
   "name": "python",
   "nbconvert_exporter": "python",
   "pygments_lexer": "ipython3",
   "version": "3.10.1 (tags/v3.10.1:2cd268a, Dec  6 2021, 19:10:37) [MSC v.1929 64 bit (AMD64)]"
  },
  "orig_nbformat": 4,
  "vscode": {
   "interpreter": {
    "hash": "40430081c420884bc0c6cacdd19468c594457515a272ed1024804e3b83ddb8db"
   }
  }
 },
 "nbformat": 4,
 "nbformat_minor": 2
}
