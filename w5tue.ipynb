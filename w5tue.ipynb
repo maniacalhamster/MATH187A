{
 "cells": [
  {
   "attachments": {},
   "cell_type": "markdown",
   "metadata": {},
   "source": [
    "# Breaking Rectangular Transposition\n",
    "\n",
    "G-test: Does some observed distribution actually come from a theoretical/expectected distribution?\n",
    "- Demographics\n",
    "- Ecology\n",
    "- Codebreaking (Rect Trans!)\n",
    "\n",
    "Q: Basic Freq Analysis will NOT work for Rect Transposition! Why?\n",
    "- Transposition cipher shuffles letters around based on position\n",
    "- Transposition cipher just moves letters around --> relative frequencies are retained but DO NOT HELP (ciphertext match plaintext)"
   ]
  },
  {
   "attachments": {},
   "cell_type": "markdown",
   "metadata": {},
   "source": [
    "## Strategy\n",
    "\n",
    "Period = |keyword|\n",
    "- must be divisor of |ciphertext|\n",
    "\n",
    "    $\\text{Period} \\in \\{\\text{Unique factors of |ciphertext|}\\}$\n",
    "\n",
    "> Guess: period from factorlist of |ciphertext|\n",
    "\n",
    "For each `i != j`, look at the `ith` and `jth` columsn in rectangle\n",
    "- Do these pairs match what's expected of plaintext English?\n",
    "\n",
    "$$\n",
    "G^{(i, )} = 2\\sum_{\\alpha\\beta} O_{\\alpha\\beta}^{(i, j)} ln(\\frac{O_{\\alpha\\beta}^{(i, j)}}{E_{\\alpha\\beta}})\n",
    "$$\n",
    "- $\\sum$: Over all pairs of letters in English (26*26)\n",
    "- $O$: # of times (i, j) pair appears in column\n",
    "- $E$: # of times (i, j) pair appears in sample plaintext"
   ]
  },
  {
   "cell_type": "code",
   "execution_count": 21,
   "metadata": {},
   "outputs": [],
   "source": [
    "from functools import reduce\n",
    "from math import log, exp\n",
    "import numpy as np\n",
    "\n",
    "\n",
    "def factor_list(n):\n",
    "    return set(reduce(list.__add__,\n",
    "                ([i, n//i] for i in range(1, int(n**0.5)+1) if n % i == 0)))"
   ]
  },
  {
   "cell_type": "code",
   "execution_count": 7,
   "metadata": {},
   "outputs": [
    {
     "data": {
      "text/plain": [
       "'possible factors: [1, 2, 3, 5, 6, 9, 10, 15, 18]'"
      ]
     },
     "execution_count": 7,
     "metadata": {},
     "output_type": "execute_result"
    }
   ],
   "source": [
    "cipher = \"IDRNUEGHWTEHLOOUFDLARLAKDSADONLUDENASDYSHITENUATMUTNFHOAEERYNWETHLHCOEHUSUDPNOPGSRSIEYVLLENOITWEHHAESVNIEBHDEAAEPSNGSNAIELNOORNOSHCEAKBOTRUHSGAIHLNUAGDRYRLYERTATRCOAUFONCATYNRLDTEAHNTFGDONMULYEFSHATESDSAEHTSFHOEEVNEDIGRNNEOWWIIHNTWVEOIEFHMTNEACLYHLHOEOSOUHFSEUNRKOITWOHNTOIWWUABTSHWTTIIHFRELSGITEMSOPEFHBTDULIISNAEGONEFSUISFNAFRBELLGOEEOPRMEVDDAPMSIYIRTSINAISYEUFRFEALFBHOTERLFEIEANWSGEURLNEIVDENBAYYHOTAFLTAFHAPESLBUALRCEEABPUEOSCEISTIETMNWETINHTWIHHCTEHDMNUILSALUCYEERSIEEVTVNHEEETRSTNSNERAUATALMGIFEOTSEHDSETOAELEOTRRLRBEIOIOKLPEUODENHSTECNBEREOEFPMUOEENHMTHEEORAUENSEDHSTLIPEMDLNSAECPFAUETRAFEOTSOHDMEUANPIHOTENABEKLLWLSANUOTPAHVCEEATYNKEIELDWNOIPWUOSENFWAKRNSAEEGSDUADPNFOAENIWHTWUERNTFKODSYEAECEDRETTSIHWTAUTNEEDPRSRSIEFOOSNWOLHUIIHCCOACMNEPRTAEOOANLRHYTSSNAENTOMIPOERRROELPAYHNTHTTEOEATRFADEMRHOTEFERVLEULRPEPOOINHUTEMTBTEIPRASLTENOIREEYVLDYIAHFTEEEHDOIRUDOSNPIGPOOFFFVTEEHHITELARWSECAIINSNSAEKSNIISNAIGNCEIKFNOTGEHHAENRAUTDNEERDEEDMRRAIESNSOEOFHUTWGTHHNIHOCDGAIOFNOTGMHIAEAGNTICINOOTUDOLRRUETOITANTUHOGEFHSTIULMBAEHTWIWSTAUIASPOETTDKHNWIWHTAATSTHIOASUTRNEVNEEMIDENHCTEOTMNTPAILFOOTNOHHUEFSOUERSEIHSTAAWTMSEYLRALYOISLNEULNBOOCURGLIRDLAPEPHWTTIHHSAEYDWFOIACENASHTTWCODRPEUODANESMNIODPDEEIRFWSOADRETCLOALFKBCUATPNHOSENAUFTSAIRCOYTCCNLOOUINSTTAWHEHLBINEODYBDUTORTEEHCAEORNMIABNTOSIEOVRFMYIPSALNTELUAORCBETJISHCWVHAEHPTEOHOWRFESTUAHCFETFUIGSNLSILTATENHSAYILTSFHOOIPWSIELEROSMNANGOSCRIEADNTOSIOBYNERDUDOHETIPSTAPWIOSBSRLIEECFETLHETADETMRAFEIFDNEETRAARNREGMNETTFHOREATPLIUACFROTSCHSEEFNOTEEHDTESALOIEFHPTUITRCUEOLWSDEUBCFIIFTETONIMDFOPYREOPRASHNTANOLIIAHTTISEACPCAFIYOTRRORSUOFLWRIPEMOSINSAADCNGTNUITPNHODIIESEARIIMNDYESHREOHTTEOCPEIROPTUIISRNBAKFBOKLCAAUNLRDAITRDANHTTILYNAUURFNDFELLRUTESHBTEYLDELWAIGNNZDAEGWDONDWBTIUSTAHHEUDRDNEEMVTOEHRLRLIIHNTAGFNEOBPRUOEENHRTDEOEMDLEALNNIVDEETDRGIAEMTSFHOAERYGGSDEETADHNAEHSGTTYRLTESEENMADSVTEAHTCNAAYNEEDELKWIOIDWNVSEENERHLTIESNSSTIMHIASONGNFLOIOMNOROPOWEPSDOYTMSOAEFSLUOORJSNFOOEMWEETKISSPPORROITREERDROUIKSCHHRAEEDENBOOEFNOMBOYMNOPCOAINNBSNOIOYODHMBTAUENYAYARHDSPEASLIESNDUCORETLSMAIETNEEGLTAHTROEEWVRELHDAAYTLREHECEAIDENMSAITDPATANFROTTOHCUEYNRATTLTEEORRMFWHMHIIIHNCWISITYLLIDRMOTPTUAENUNTRADEAAHTDITMFEONDHOTEOARHNTRAESPLOARNYELTPSHMGEEAEVVNIECDNEFEOUROSVTAIAGNTOTIRHWIESTRPEOOEFKTAUECIBDLOLYLNIOESFSNAETMIADSLEODRRCWIHHROPEPDSEHSNIADMNOAEFEANSRSTEIDORTSEEEMAESSIBHAETNSDDNEIIEHSDYOLPNOESNRRAFILWEDINVTAIHFEOAWMTEPTGTNBIEYHCTRHEFEEUNSLMSFYOISCEOOTSMYLELEATVAIIFOOHNAIMLSIAYTDTWSHANEANMNEIWRHHCAIHLTILDSNMAMUHOCARWSEDSIIASTATWPHAPENAETRRHATETTAWHWETINITHSHURQEEHSWITLCALHDOEMWREOONOOFRMIHSTEOAINTIADANRCODCLIGYNYOEEBRDOTFTHIHWTWAIHLSILTSCNIOEDRDERAEYVGSNUISLRUANMOSM\"\n",
    "\n",
    "c_len = len(cipher)\n",
    "f'possible factors: {[f for f in factor_list(c_len) if f <= 26]}'"
   ]
  },
  {
   "cell_type": "code",
   "execution_count": 18,
   "metadata": {},
   "outputs": [],
   "source": [
    "period = 5\n",
    "\n",
    "def get_columns(text, col_size):\n",
    "    return np.array([[cipher[5*i:5*i+5]] for i in range(c_len//col_size)])\n",
    "\n",
    "cipher_cols = get_columns(cipher, period)"
   ]
  },
  {
   "cell_type": "code",
   "execution_count": 32,
   "metadata": {},
   "outputs": [
    {
     "data": {
      "text/plain": [
       "[['D', 'U'], ['G', 'T'], ['H', 'O'], ['F', 'A'], ['L', 'D']]"
      ]
     },
     "execution_count": 32,
     "metadata": {},
     "output_type": "execute_result"
    }
   ],
   "source": [
    "# Taking a look at a smaller set of rectangles from the input ciphertext\n",
    "sample = cipher_cols[:5, :]\n",
    "i, j = 1, 4\n",
    "\n",
    "[[w[0][i], w[0][j]] for w in sample]\n",
    "\n",
    "# Hmm, derivation is taking too long\n",
    "# I'll revisit this later when I have time"
   ]
  },
  {
   "attachments": {},
   "cell_type": "markdown",
   "metadata": {},
   "source": [
    "## Observations\n",
    "\n",
    "Does this G-box look like we guessed the period right?\n",
    "\n",
    "For each row (except one), there is one # that is much less than every other\n",
    "- $G^(i, j)$ being much smaller than the other numbers suggests that `i` and `j` are consecutive\n",
    "- The freq. dist. of pairs that occur in the `[C/p, 2]` rectangle is close to the frequency dist of pairs occurring in the English plaintext\n",
    "\n",
    "Example:\n",
    "\n",
    "```\n",
    "row 1: 1,5 are consecutive\n",
    "row 2: 2,4 are consecutive\n",
    "row 3: all big --> very last position in the permuatation\n",
    "row 4: 4,1 are consecutive\n",
    "row 5: 5,3 are consecutive\n",
    "\n",
    "             v start here and work backwards\n",
    "[2, 4, 1, 5, 3]\n",
    "```\n",
    "\n"
   ]
  },
  {
   "cell_type": "code",
   "execution_count": 36,
   "metadata": {},
   "outputs": [
    {
     "data": {
      "text/plain": [
       "[1, 2, 4, 5, 8, 10, 16, 20, 25]"
      ]
     },
     "execution_count": 36,
     "metadata": {},
     "output_type": "execute_result"
    }
   ],
   "source": [
    "[f for f in factor_list(10000) if f <=26]"
   ]
  },
  {
   "attachments": {},
   "cell_type": "markdown",
   "metadata": {},
   "source": [
    "By hand: \n",
    "```\n",
    "10000\n",
    "2 (5000)\n",
    "2 2 (2500)\n",
    "2 2 5 (500)\n",
    "2 2 5 5 (100)\n",
    "2 2 2 5 5 (50)\n",
    "2 2 2 5 5 5 (10)\n",
    "2 2 2 2 5 5 5 (2)\n",
    "2 2 2 2 2 5 5 5\n",
    "\n",
    "2, 4, 8, 16,\n",
    "5, 10, 20, 25\n",
    "```"
   ]
  }
 ],
 "metadata": {
  "kernelspec": {
   "display_name": "Python 3",
   "language": "python",
   "name": "python3"
  },
  "language_info": {
   "codemirror_mode": {
    "name": "ipython",
    "version": 3
   },
   "file_extension": ".py",
   "mimetype": "text/x-python",
   "name": "python",
   "nbconvert_exporter": "python",
   "pygments_lexer": "ipython3",
   "version": "3.10.1"
  },
  "orig_nbformat": 4,
  "vscode": {
   "interpreter": {
    "hash": "40430081c420884bc0c6cacdd19468c594457515a272ed1024804e3b83ddb8db"
   }
  }
 },
 "nbformat": 4,
 "nbformat_minor": 2
}
