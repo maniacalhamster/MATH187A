{
 "cells": [
  {
   "attachments": {},
   "cell_type": "markdown",
   "metadata": {},
   "source": [
    "# RSA\n",
    "\n",
    "Bob: \n",
    "- pick 2 large distinct primes\n",
    "  - p\n",
    "  - q\n",
    "\n",
    "- Compute\n",
    "  - n = pq\n",
    "  - $\\phi(n) = (p-1)(q-1)$\n",
    "\n",
    "- Select\n",
    "  - $\\{d \\in [0, \\phi(n)] \\quad | \\quad gcd(d, \\phi(n)) = 1\\}$\n",
    "\n",
    "- Compute\n",
    "  - $e \\equiv d^{-1}$ (mod $\\phi(n)$)\n",
    "\n",
    "- Generated\n",
    "  - $(n, e)$ public key\n",
    "\n",
    "---\n",
    "\n",
    "Alice:\n",
    "  - Has\n",
    "    - $\\{m \\in [0, n-1]\\}$\n",
    "  - Encrypts\n",
    "    - $c = m^e$ mod n\n",
    "\n",
    "---\n",
    "\n",
    "Bob:\n",
    "  - Receives\n",
    "    - $c$\n",
    "  - Decrypts\n",
    "    - $m = c^d$ mod n\n"
   ]
  },
  {
   "cell_type": "code",
   "execution_count": 12,
   "metadata": {},
   "outputs": [
    {
     "name": "stdout",
     "output_type": "stream",
     "text": [
      "e === d^1 mod phi(n)\n",
      "e*d mod phi(n) = 1\n",
      "public key (n,e): (15, 3)\n",
      "Enc(m) = m^e % n = Enc(7) = 13\n",
      "Dec(c) = c^d % n = Dec(13) = 7\n",
      "Enc(2) = 8\n"
     ]
    }
   ],
   "source": [
    "p, q, d = 3, 5, 3\n",
    "\n",
    "n = p*q\n",
    "phi = (p-1)*(q-1)\n",
    "\n",
    "e = 3\n",
    "print(f\"e === d^1 mod phi(n)\\ne*d mod phi(n) = {e*d % phi}\")\n",
    "\n",
    "print(f\"public key (n,e): ({n}, {e})\")\n",
    "\n",
    "m = 7\n",
    "c = m**e % n\n",
    "\n",
    "print(f\"Enc(m) = m^e % n = Enc({m}) = {c}\")\n",
    "\n",
    "print(f\"Dec(c) = c^d % n = Dec({c}) = {c**d % n}\")\n",
    "\n",
    "print(f\"Enc(2) = {2 ** e % n}\")\n"
   ]
  },
  {
   "cell_type": "code",
   "execution_count": 14,
   "metadata": {},
   "outputs": [
    {
     "data": {
      "text/plain": [
       "3"
      ]
     },
     "execution_count": 14,
     "metadata": {},
     "output_type": "execute_result"
    }
   ],
   "source": [
    "p_key = (35, 7)\n",
    "cipher = 17\n",
    "\n",
    "17 ** 7 % 35"
   ]
  }
 ],
 "metadata": {
  "kernelspec": {
   "display_name": "Python 3",
   "language": "python",
   "name": "python3"
  },
  "language_info": {
   "codemirror_mode": {
    "name": "ipython",
    "version": 3
   },
   "file_extension": ".py",
   "mimetype": "text/x-python",
   "name": "python",
   "nbconvert_exporter": "python",
   "pygments_lexer": "ipython3",
   "version": "3.10.1"
  },
  "orig_nbformat": 4,
  "vscode": {
   "interpreter": {
    "hash": "40430081c420884bc0c6cacdd19468c594457515a272ed1024804e3b83ddb8db"
   }
  }
 },
 "nbformat": 4,
 "nbformat_minor": 2
}
