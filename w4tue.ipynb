{
 "cells": [
  {
   "attachments": {},
   "cell_type": "markdown",
   "metadata": {},
   "source": [
    "# 3. Codebreaking\n",
    "\n",
    "Focus on Eve (eavesdropper / malicious 3rd party) and attempts to break ciphers. Probability theory will be used in some techniques.\n",
    "\n",
    "Not precise, a generous chunk of the the practice is guesswork.\n",
    "\n",
    "Of all ciphers discussed, most are insecure -- except for OTP (perfect secrecy)\n"
   ]
  },
  {
   "attachments": {},
   "cell_type": "markdown",
   "metadata": {},
   "source": [
    "## 3.1 Freq Analysis\n",
    "\n",
    "Use case: Substitution Ciphers\n",
    "- simple (mostly)\n",
    "- polygraphic (sometimes)"
   ]
  },
  {
   "attachments": {},
   "cell_type": "markdown",
   "metadata": {},
   "source": [
    "### Heuristic 3.1.1\n",
    "\n",
    "Bodies of English texts observe a common relative frequency of letters used, with the most common being (first 12 in order): `ETAOINSHRDLU`"
   ]
  },
  {
   "attachments": {},
   "cell_type": "markdown",
   "metadata": {},
   "source": [
    "### 3.1.4 Exercise\n",
    "\n",
    "Find the corresponding plaintext for the following simple substitution ciphertext:"
   ]
  },
  {
   "cell_type": "code",
   "execution_count": 68,
   "metadata": {},
   "outputs": [
    {
     "name": "stdout",
     "output_type": "stream",
     "text": [
      "Lazy method of just sorting frequency and assigning letters based on position yielded:\n",
      "\n",
      "Cipher : Standard (Cipher %: Standard %)\n",
      "a:e\t(13.294:12.702)\n",
      "u:t\t(8.686:9.056)\n",
      "f:a\t(8.104:8.167)\n",
      "o:o\t(7.486:7.507)\n",
      "r:i\t(7.168:6.966)\n",
      "x:n\t(6.868:6.749)\n",
      "z:s\t(6.674:6.327)\n",
      "h:h\t(5.826:6.094)\n",
      "k:r\t(5.791:5.987)\n",
      "g:d\t(5.226:4.253)\n",
      "e:l\t(3.955:4.025)\n",
      "y:c\t(2.825:2.782)\n",
      "i:u\t(2.578:2.758)\n",
      "p:m\t(2.542:2.406)\n",
      "m:w\t(2.366:2.36)\n",
      "d:f\t(2.225:2.228)\n",
      "j:g\t(1.73:2.015)\n",
      "c:y\t(1.642:1.974)\n",
      "n:p\t(1.571:1.929)\n",
      "t:b\t(1.465:1.492)\n",
      "l:v\t(0.989:0.978)\n",
      "q:k\t(0.512:0.772)\n",
      "v:j\t(0.3:0.153)\n",
      "s:x\t(0.088:0.15)\n",
      "b:q\t(0.071:0.095)\n",
      "w:z\t(0.018:0.074)\n",
      "\n",
      "Checking with an online tool revealed that o:n, r:o, x:i | y:m i:c p:w m:u | j:y c:g | n:b t:p | v:q s:z b:j w:x\n",
      "As opposed to the lazy methods results     o:o, r:i, x:n | y:c i:u p:m m:w | j:g c:y | t:b n:p | v:j s:x b:q w:z\n"
     ]
    }
   ],
   "source": [
    "ciphertext = \"YJCRGYRUHAKEXLAGXOFHFOGZRYAHRMZAXOUHAIEAFOFOGFOIXAOUURPORDNKAUUROHAKHMZNFOGZDFYXEJHFGNAAOKAZXGAOUZUHAKADRKCAOAKFUXROZFOGNRKAXOGAAGUHAOFYARDUHAXKNXKUHTEFIANKAUURORDNKAUUROPHAUHAKNJIRXOIXGAOIARKNAIFMZAZRYAKAYRUAFOIAZURKHFGNAAOFTAKZROFCARDZMDDXIXAOUXYTRKUFOIAUREAFLAHXZOFYAURHXZOAXCHNRMKHRRGXQORPORUPHAOXPFZFCXKEXPAOUURNKAUUROFNRMUUPXIAFJAFKFOGPAEEXEXQAGUHALXZXUUHAHRMZAFOGXUZXOYFUAZZTAIXFEEJZMXUAGYAUHAEFKCATAFIADMEKRRYZUHAPAEEFKKFOCAGDMKOXUMKAUHAIEAFKPXGAPXOGRPZUHANFEIROJRMUZXGAERRQXOCGRPOROFDXOAFOUXSMAZUKAAUPHAKAZMOGFJZFOGHREXGFJZZAAYAGFEPFJZURFNXGAZRSMXAUPFZXUZFUYRZTHAKAZRIEAFOXUZTFLAYAOUUHAZAUHXOCZTEAFZAGYAPAEEROAIHXEGXOFHRMZAHREGRDCKRPOTARTEAXZMZMFEEJYFGALAKJYMIHRDFOGXOFSMXAUPFJXPFZFCRRGGAFEUFQAOORUXIARDNJYKZNKAUUROPHRHFGNAAOEADUFPXGRPPXUHROAZRONADRKAXQOAPHAKHAKHMZNFOGFTHJZXIXFOHFLXOCGXAGPHXEAZHAPFZJAUFJRMOCFOGHFOGZRYAPRYFOZHAPFZORUJRMOCFZXKAYAYNAKHAKNMUZHAPFZZUXEEHFOGZRYAUFEEPAEEYFGAFOGUHRMCHGFKQDRKFOAOCEXZHPRYFOJAUPAFKXOCFEPFJZUHAIEAFKOAZZRDHAFEUHXOHAKNKMOAUUAIHAAQFOGXUZLXLFIXUJXOFTFXKRDDXOAIHAAKDMENEFIQAJAZTARTEAAZUAAYAGXUFCKXALRMZTXUJUHFUZHAHFGORUIRODAKKAGHAKIRYTEAVXROROHAKZROPHRZAAJAZPAKANEMAUHRMCHALAOXONRJHRRGLAKJTXAKIXOCFOGUHAIRERMKRDHXZEROCHFXKZMIHFZDKXAOGZGXGORULAOUMKAURZTAIXDJAVIATUFZUHAZMOZHROAROXUPHAOUHAJIFEEAGXUCREGAOHAXOHAKXUAGUHAEXOAZRDHXZYRUHAKZDAFUMKAZHRPALAKFEZRHAKCRRGUAAUHHAKZUFUMKARKUHATKRYXZARDHAKZUFUMKADRKHAPFZORUJAUDMEECKRPOFOGPHFUPFZNAUUAKHAKHAFEUHPXUHRMUDEFPFOGHAKZTXKXUZRDUHFUUROAFOGASMFEXUJPHXIHFKANAUUAKUHFOFDRKUMOAURUHATRZZAZZRKXOUHAFMUMYORDUHAJAFKXPFZZUFJXOCFUNKAUUROYJCRGYRUHAKHFLXOCIRYAXOTAKZROURIEFXYYARDUHAQXOZDREQPXUHPHRYPFZFUUHFUUXYADXVAGYJTAKYFOAOUKAZXGAOIAXNAEXALAZHAUHAOTEFXOEJZFPALAOUZIRYXOCPHRZALAKJZHFGRPXZIFKIACMAZZAGJAURDPHXIHUHADFXOUZMZTXIXROZMDDXIAGURXYTFKUMOZAUUEAGZFGOAZZFOGYFGAYACEFGURIHFOCAZIAOAFOGZRIXAUJUXYAFEPFJZDERPAGZYRRUHEJDRKYAFUYJCRGYRUHAKZZXGAORUPXUHUMYMEUMRMZZPXDUOAZZNMUNEFOGEJEXQAUHACEXGXOCRDFDMEEKXLAKUHKRMCHFTEFXOYJLXZXUZURHAKKAZAYNEAGUHAZRBRMKORDIHKXZUXFOFOGHRTADMENAZXGAFIAKUFXOTEAFZFOUZUKAFYPXUHCKAAOUKAAZROAFIHNFOQFOGYAFGRPZNAFMUXDXAGPXUHEXEXAZFEEUHAJAFKKRMOGUHAIHFKYRDLFKXAUJUHAKAPFZORUORKUHAAVIXUAYAOURDXOIXGAOUNMUXEXQAGTAFIAZRPAEEFOGZRMCHUZUXYMEMZZREXUUEAUHFUPHAOUHAEFUUAKIFYAXFEYRZUDAEUXUFGXZUMKNFOIAFOGPXZHAGKFUHAKXUHFGZUXEEHAEGFERRDROAGFJFEAUUAKPFZKAIAXLAGRDPHXIHUHAIROUAOUZALXGAOUEJIFMZAGYKZNKAUUROZMKTKXZAFOGZRYAIROIAKOXUHRMCHUFUDXKZUXUPFZDKRYHRYAFOGUKAYNEAGAVTAIUXOCXQORPORUPHFUGXZFZUKRMZIRYYMOXIFUXROURYAHRPALAKORKADAKAOIAPFZYFGAFOGUHAIERMGZAAYAGURTFZZUHAOAVUGFJROYJKAUMKODKRYFEROCPFEQXDRMOGFZXAOUAKAGYJNAGKRRYFOMOAVTAIUAGIHFOCAXOFGGXUXROURYJRPODKAOIHNAGXOXUZZHFGJKAIAZZFTTAFKAGXOFIRKOAKFZYFEEIKXNGKFTAGPXUHPHXUAFOGXOFGGXUXROURYJYFHRCFOJIHAZURDGKFPAKZXZFPFUXOJKRZAPRRGIHAZUXZURRGZUXEECFWAGFOGIROZXGAKAGRDPHFUFKAUHAZAUHXOCZUHAZXCOZFOGURQAOZXFZQAGUHAFOZPAKPFZRNLXRMZFZAIROGCMAZUXZIRYXOCYKZNKAUUROAVTAIUZRUHAKLXZXURKZROGAZIAOGXOCURGXOOAKAVTEFOFUXROZAOZMAGFEXUUEACXKEXPFZUREGPRMEGZHRKUEJNAYJIRYTFOXROUHAGFMCHUAKRDFDKXAOGFOGGXZUFOUKAEFUXRORDUHAEFUAGKNKAUUROZUHXZEXUUEACXKEXUPFZFGGAGHFGKAIAOUEJERZUHAKYRUHAKUHRMCHXOGAAGYKZNKAUUROAKAEROCZMNBRXOAGUHAERZZPFZORUZRCKAFUFZYXCHUFUDXKZUFTTAFKYKZHRYAHRYAXUZAAYZPFZUHAOFYAHFGNAAOFLAKJTKAUUJNMUFCXGGJIFKAEAZZPRYFOPHRHFGOACEAIUAGHAKIHXEGFOGGXZFTTRXOUAGFOGGXZHAFKUAOAGHAKHMZNFOGZRDFKDKRYIROCAOXFEHFGUHAMOXROTKRLAGUHFUZATFKFUXROFUEFZUAOZMAGZATFKFUXRONJYMUMFEIROZAOUORUFDUAKFOJEACFETKRIAZZZRROFDUAKUHXZALAOUUHAEFGJHFLXOCRLAKAVAKUAGHAKZAEDFUFNFEEIFMCHUIREGURRQFDALAKFOGGXAGFDUAKFLAKJNKXADXEEOAZZHAKHMZNFOGOFUMKFEEJFYFORDLAKJZAOZXUXLADAAEXOCZFOGZHRIQAGXOAVTKAZZXNEJNJURRZMGGAOIRYYMOXIFUXRORDUHAOAPZIRMEGHFKGEJXUZAAYZORPNATAKZMFGAGNMUUHFUZRYARLAKZALAKXUJROHXZTFKUZRYAGADXIXAOIJXOTFUXAOIAFOGXOGMECAOIAHFGIROUKXNMUAGURHFZUAOHAKAOGHAHFGNKRRGAGRLAKUHXZXGAFUXEEHXZZTXKXUZPAKAZAKXRMZEJFDDAIUAGUHAYAGXIFEYAOXOZXZUAGROUKFLAEEXOCNAXOCUKXAGFZFKAYAGJFOGYAFOPHXEAYKZNKAUUROHFGRDDAKAGURUFQAIHFKCARDHXZEXUUEACXKEFOGXHRTAFGGAGYJCRGYRUHAKXOIROIEMZXROUHAIHXEGPXEEORUNAEXQAHAKYFYYFFZZXEEJFOGDKXLRERMZFEXUUEADEXKUFZALAKZAOZXNEAYFOPFZPAFQAORMCHURYFKKJDRKZFXGZHAYKHRYAXZFZAOZXNEAYFOXOHXZPFJUHRMCHORULAKJTKFIUXIFEHAXZDROGRDZIXAOIAFOGEXLAZHFEDHXZEXDAXOFEFNRKFURKJUKJXOCAVTAKXYAOUZFUHXOCHXZNMUUAKDEJPXDAIRMEGOAXUHAKIRYTKAHAOGORKAOGMKAFOGXOGAAGIRODAZZAGYJCRGYRUHAKXZHRMEGORUHFLAEXQAGXUYJZAEDXOFOZPAKURFSMAZUXRORDYXOAZHADMKUHAKXODRKYAGYAUHFUHAKEFUAHMZNFOGMZAGURZFJYKHRYAHFGGAKXLAGUHXZZIXAOUXDXIUMKODKRYFYFUAKOFEMOIEAFDKAOIHZFLFOUDRKHAIFYAXUZAAYZRDYXVAGDKAOIHFOGZIRUUXZHRKXCXOFOGHFGIROOAIUXROZORPEXLXOCXODKFOIARDPHRYYRKAUHFOROAPKRUAGANADRKAHXZOFYAFOGIFEEAGHXYZAEDORNEAUHFUZFYAALAOXOCFUOXOARIERIQFZAKLFOUPFZGAZTFUIHAGURYAAUUHAIRFIHNJPHXIHRMKEXUUEALXZXURKPFZAVTAIUAGYKZNKAUUROFOGXZFUFEROAXOUHAGKFPXOCKRRYPFXUXOCHAKIRYXOCBRHOCKFHFYNKAUURONAXOCFNZAOUROFLXZXUURROARDHXZZIHRREDAEERPZPHREXLAGXOUHAIRMOUKJYJCRGYRUHAKKAFGUHAALAOXOCTFTAKPHXEAZHAPFXUAGXZAPAGXUPFZFPAUOXCHUUHAKFXOEFZHAGUHATFOAZFOGUHAPXOGZRMOGAGFOCKJFOGKAZUEAZZTRRKIHXEGZFXGYKZNKAUURODKRYUXYAURUXYAPHFUPAFUHAKDRKHAKBRMKOAJXPXZHZHAPAKAZFDAHAKAFEXUUEANADRKAUAOUHAGRRKNAEEFOORMOIAGPFKKAOZKAUMKOORZRROAKPFZUHAGRRKRTAOAGUHFOXKFOGRPOXOURUHAHFEEUHAKAEFJFUKMOQFOGZRYANFOGNRVAZNAZXGAUHAYZURRGFTAKZROEXQAFOMKZACXKEFOGFUUHADRRURDUHAZUFXKIFZAPFZPFKKAOPXUHFZHFPEAGNMOGEAXOHXZFKYZXZUHFUUHAIHXEGXFZQAGJAZYXZZXPRMEGHFLARTAOAGUHAZHFPEFOGUKXAGURCAUFTAATFUUHADFIANMUXUPFZHFZUXEJUMKOAGDKRYYAURPFKKAOZZHRMEGAKTMUYAGRPOTEAFZAZFXGFZYFEELRXIAPHAOPFKKAORTAOAGUHAGKFPXOCKRRYGRRKFOGUFQARDDUHXZZHFPEIROUXOMAGUHAZTAFQAKAVUKFIUXOCPXUHXUZYXOMUAHFOGUHATXOFOGPXUHFZRKURDDFZUXGXRMZHFZUAGRDDXOCUHAIEMYZJPKFTTXOCUHAIKAFUMKAPHXIHORPFTTAFKAGYFGAFGADUFUUAYTUURDREGUHAZHFPENMUUHAGKFTAKJPFZYMIHURRHAFLJFOGEFKCAURNAZMZUFXOAGRKPXAEGAGNJUHRZAHFOGZFOGFKYZCXLAXUURHFKKXAUTEAFZAPFZUHAOUHAGXKAIUXROFOGZHAIFOTMUXUFPFJUHXZZFXGXUUMKOAGFOGDXVAGXUZAJAZROYKZNKAUURO\"\n",
    "\n",
    "# https://gist.github.com/evilpacket/5973230\n",
    "rel_freq = {\n",
    "    \"a\": 8.167,\n",
    "    \"b\": 1.492,\n",
    "    \"c\": 2.782,\n",
    "    \"d\": 4.253,\n",
    "    \"e\": 12.702,\n",
    "    \"f\": 2.228,\n",
    "    \"g\": 2.015,\n",
    "    \"h\": 6.094,\n",
    "    \"i\": 6.966,\n",
    "    \"j\": 0.153,\n",
    "    \"k\": 0.772,\n",
    "    \"l\": 4.025,\n",
    "    \"m\": 2.406,\n",
    "    \"n\": 6.749,\n",
    "    \"o\": 7.507,\n",
    "    \"p\": 1.929,\n",
    "    \"q\": 0.095,\n",
    "    \"r\": 5.987,\n",
    "    \"s\": 6.327,\n",
    "    \"t\": 9.056,\n",
    "    \"u\": 2.758,\n",
    "    \"v\": 0.978,\n",
    "    \"w\": 2.360,\n",
    "    \"x\": 0.150,\n",
    "    \"y\": 1.974,\n",
    "    \"z\": 0.074\n",
    "}\n",
    "\n",
    "cipher_freq = {chr(c):0 for c in range(ord('a'), ord('z')+1)}\n",
    "\n",
    "for c in ciphertext.lower():\n",
    "    cipher_freq[c] += 1\n",
    "\n",
    "tot = sum(cipher_freq.values())\n",
    "cipher_rel_freq = {k:round(100*v/tot, 3) for k,v in cipher_freq.items()}\n",
    "\n",
    "sorted_rel_freq  = dict(sorted(rel_freq.items(), key=lambda x: x[1], reverse=True))\n",
    "sorted_cipher_rel_freq = dict(sorted(cipher_rel_freq.items(), key=lambda x: x[1], reverse=True))\n",
    "\n",
    "decoder = {ciph:plain for ciph, plain in zip(sorted_cipher_rel_freq.keys(), sorted_rel_freq.keys())}\n",
    "\n",
    "''.join([decoder[c] for c in ciphertext.lower()])\n",
    "\n",
    "print(\"Lazy method of just sorting frequency and assigning letters based on position yielded:\\n\")\n",
    "print(\"Cipher : Standard (Cipher %: Standard %)\")\n",
    "print('\\n'.join([f'{c}:{p}\\t({cf}:{pf})' for c,cf,p,pf in zip(sorted_cipher_rel_freq, sorted_cipher_rel_freq.values(), sorted_rel_freq, sorted_rel_freq.values())]))\n",
    "\n",
    "print()\n",
    "\n",
    "print('Checking with an online tool revealed that o:n, r:o, x:i | y:m i:c p:w m:u | j:y c:g | n:b t:p | v:q s:z b:j w:x')\n",
    "print('As opposed to the lazy methods results     o:o, r:i, x:n | y:c i:u p:m m:w | j:g c:y | t:b n:p | v:j s:x b:q w:z')\n"
   ]
  },
  {
   "attachments": {},
   "cell_type": "markdown",
   "metadata": {},
   "source": [
    "### 3.1.5 Exercise\n",
    "\n",
    "Why would Freq Analysis be ineffective in cracking rectangular transposition ciphers?\n",
    "\n",
    "Because the rel freq of letters are not retained when undergoing rectangular transposition. Letters are rearranged based off columns, not by the letter itself, i.e. the same letter can be encrypted as different letters if they are in different \"columns\". Thus Freq Analysis, which mainly takes advantage of monoalphabetic ciphers retaining rel freq, will not be effective for deciphering rect transpo."
   ]
  },
  {
   "attachments": {},
   "cell_type": "markdown",
   "metadata": {},
   "source": [
    "### 3.1.6 Exercise\n",
    "\n",
    "Freq Analysis method can be adapted to work for Polybius squares: Instead of mapping letters to letters, you would be mapping unique 2-letter permutations to letters and comparing the relative frequencies of THOSE 2-letter pairs in the ciphertext against the relative frequency of letters in the English alphabet."
   ]
  },
  {
   "attachments": {},
   "cell_type": "markdown",
   "metadata": {},
   "source": [
    "### 3.1.7 Exercise\n",
    "\n",
    "The freq analysis methods wouldn't work for digraphic substitution schemes without some modifications since we were looking at the relative frequency of individual letters. \n",
    "\n",
    "Digraphic sub schemes, like Hill and Playfair, works in the domain of letter pairs instead. Thus we would need to go over sample bodies of text and calculate the relative frequencies of all permutations of letter pairings\n",
    "\n",
    "$$\n",
    "\\begin{align*}\n",
    "2P26    &= \\\\\n",
    "        &= \\frac{26!}{2!(24!)}  \\\\\n",
    "        &= \\frac{24!(25)(26)}{24!(2)}  \\\\\n",
    "        &= 25(13) \\\\\n",
    "\\end{align*}\n",
    "$$\n",
    "\n"
   ]
  }
 ],
 "metadata": {
  "kernelspec": {
   "display_name": "Python 3",
   "language": "python",
   "name": "python3"
  },
  "language_info": {
   "codemirror_mode": {
    "name": "ipython",
    "version": 3
   },
   "file_extension": ".py",
   "mimetype": "text/x-python",
   "name": "python",
   "nbconvert_exporter": "python",
   "pygments_lexer": "ipython3",
   "version": "3.10.8 (tags/v3.10.8:aaaf517, Oct 11 2022, 16:50:30) [MSC v.1933 64 bit (AMD64)]"
  },
  "orig_nbformat": 4,
  "vscode": {
   "interpreter": {
    "hash": "40430081c420884bc0c6cacdd19468c594457515a272ed1024804e3b83ddb8db"
   }
  }
 },
 "nbformat": 4,
 "nbformat_minor": 2
}
