{
 "cells": [
  {
   "attachments": {},
   "cell_type": "markdown",
   "metadata": {},
   "source": [
    "# Affine Cipher through Polybius Square\n",
    "\n",
    "More of an exploratory reading for various encryption methods built off of modular arithmetic, only noting cool stuff"
   ]
  },
  {
   "attachments": {},
   "cell_type": "markdown",
   "metadata": {},
   "source": [
    "## Affine Cipher Lemma 2.6.2\n",
    "\n",
    "$$ \n",
    "ac = 1 \\text{  (mod n)} \\\\\n",
    "E(x) = ax = b \\text{  (mod n)} \\\\\n",
    "D(y) = c(y - b) \\text{  (mod n)} \\\\\n",
    "\n",
    "D(E(x)) = x\n",
    "$$\n",
    "\n",
    "Proof?\n",
    "\n",
    "$$\n",
    "c((ax + b) - b) \\equiv c(ax) \\equiv x \\text{  mod(n)}\n",
    "$$"
   ]
  },
  {
   "cell_type": "code",
   "execution_count": 8,
   "metadata": {},
   "outputs": [
    {
     "data": {
      "text/plain": [
       "'ZKKOV'"
      ]
     },
     "execution_count": 8,
     "metadata": {},
     "output_type": "execute_result"
    }
   ],
   "source": [
    "def affine(plain, a=0, b=1):\n",
    "    return ''.join([chr((a*(ord(c)-0x41)+b)%26+0x41) for c in plain])\n",
    "\n",
    "affine(\"APPLE\", 25, 25)"
   ]
  },
  {
   "attachments": {},
   "cell_type": "markdown",
   "metadata": {},
   "source": [
    "## 2.8 Polybius Square\n",
    "\n",
    "Considering the square using ADFGVX as keys as part of the German ADFGVX cipher (excluding the additional rectangular transposition)"
   ]
  },
  {
   "cell_type": "code",
   "execution_count": 3,
   "metadata": {},
   "outputs": [
    {
     "name": "stdout",
     "output_type": "stream",
     "text": [
      "XADDDVFGDXDDAXFAGGADDDFAXAADDDAFGAAVGV\n",
      "STORMTHEGATESAT1437\n"
     ]
    }
   ],
   "source": [
    "#  Populating the table\n",
    "keys = 'ADFGVX'\n",
    "vals = 'NA1C3H8TB2OME5WRPD4F6G7I9J0KLQSUVXYZ'\n",
    "table = {keys[r]:{keys[c]:vals[r*len(keys)+c] for c in range(len(keys))} for r in range(len(keys))}\n",
    "\n",
    "# Defining the decryption algo\n",
    "def Dpoly(cipher):\n",
    "  return ''.join([table[cipher[i]][cipher[i+1]] for i in range(0, len(cipher)-1, 2)])\n",
    "\n",
    "# Defining the encryption algo\n",
    "def Epoly(plain):\n",
    "  return ''.join([keys[vals.index(c) // len(keys)] + keys[vals.index(c) % len(keys)] for c in plain])\n",
    "\n",
    "# Testing the Encrypt\n",
    "print(Epoly('STORMTHEGATESAT1437'))\n",
    "\n",
    "# Testing the Decrypt\n",
    "print(Dpoly('XADDDVFGDXDDAXFAGGADDDFAXAADDDAFGAAVGV'))"
   ]
  },
  {
   "attachments": {},
   "cell_type": "markdown",
   "metadata": {},
   "source": [
    "### Update\n",
    "\n",
    "Looking back at the sage cell provided,\n",
    "\n",
    "Realized I could've just done a mapping of bigraph keys --> values\n",
    "\n",
    "Which would also simplify the code A LOT"
   ]
  },
  {
   "cell_type": "code",
   "execution_count": 6,
   "metadata": {},
   "outputs": [
    {
     "name": "stdout",
     "output_type": "stream",
     "text": [
      "XADDDVFGDXDDAXFAGGADDDFAXAADDDAFGAAVGV\n",
      "STORMTHEGATESAT1437\n"
     ]
    }
   ],
   "source": [
    "table = {k:v for k,v in zip('NA1C3H8TB2OME5WRPD4F6G7I9J0KLQSUVXYZ', [r+c for r in 'ADFGVX' for c in 'ADFGVX'])}\n",
    " \n",
    "# Encryption\n",
    "print(''.join([table[c] for c in 'STORMTHEGATESAT1437']))\n",
    "\n",
    "# Decryption\n",
    "print(''.join([{v:k for k,v in table.items()}[c] for c in (lambda l: [l[i]+l[i+1] for i in range(0, len(l)-1, 2)])('XADDDVFGDXDDAXFAGGADDDFAXAADDDAFGAAVGV')]))"
   ]
  },
  {
   "attachments": {},
   "cell_type": "markdown",
   "metadata": {},
   "source": [
    "# Lecture 5\n",
    "\n",
    "> Note: Thinking of doing lecture notes on the bottom of reading notes since they're related"
   ]
  },
  {
   "attachments": {},
   "cell_type": "markdown",
   "metadata": {},
   "source": [
    "### Do-Now problem\n",
    "\n",
    "Rectangular transposition w/ FRIDAY --> Ceasar shift of (inverse of 17 mod 26)\n",
    "\n",
    "```\n",
    "26 = 17 + 9\n",
    "17 = 9 + 8\n",
    "9 = 8 + 1\n",
    "\n",
    "9 - 8 = 1\n",
    "9 - (17 - 9) = 1\n",
    "2(9) - 17 = 1\n",
    "2(26 - 17) - 17 = 1\n",
    "2(26) -3(17) = 1\n",
    "```\n",
    "\n",
    "$17^{-1}$ (mod 26) = -3\n",
    "\n",
    "So -3 was used to encrypt, we use +3 to decrypt"
   ]
  },
  {
   "cell_type": "code",
   "execution_count": 11,
   "metadata": {},
   "outputs": [
    {
     "data": {
      "text/plain": [
       "'IMALLMRESWYEOBTEHREVOOGS'"
      ]
     },
     "execution_count": 11,
     "metadata": {},
     "output_type": "execute_result"
    }
   ],
   "source": [
    "affine(\"FJXIIJOBPTVBLYQBEOBSLLDP\", 1, +3)"
   ]
  },
  {
   "attachments": {},
   "cell_type": "markdown",
   "metadata": {},
   "source": [
    "```\n",
    "FRIDAY\n",
    "354216\n",
    "IMALLM\n",
    "RESWYE\n",
    "OBTEHR\n",
    "EVOOGS\n",
    "\n",
    "ADFIRY\n",
    "123456\n",
    "LLIAMM\n",
    "YWRSEE\n",
    "HEOTBR\n",
    "GOEOVS\n",
    "-- never mind this is supposed to be for the inverse damn it\n",
    "\n",
    "FRIDAY\n",
    "354126\n",
    "123456\n",
    "\n",
    "IADFRY\n",
    "421356\n",
    "IMALLM\n",
    "RESWYE\n",
    "OBTEHR\n",
    "EVOOGS\n",
    "\n",
    "DAFIRY\n",
    "123456\n",
    "AMLILM\n",
    "SEWRYE\n",
    "TBEOHR\n",
    "OVOEGS\n",
    "-- ok wtf\n",
    "\n",
    "FRIDAY\n",
    "354216\n",
    "IMALLM\n",
    "RESWYE\n",
    "OBTEHR\n",
    "EVOOGS\n",
    "\n",
    "IADRFY\n",
    "412536\n",
    "ALLMIM\n",
    "SYWERE\n",
    "THEBOR\n",
    "OGOVES\n",
    "-- WHAT THE FUCK IS GOING ON\n",
    "\n",
    "ALL MIMSY WERE THE BOROGOVES\n",
    "```\n",
    "\n",
    "Alice - through the looking glass. Jabberwocky."
   ]
  },
  {
   "attachments": {},
   "cell_type": "markdown",
   "metadata": {},
   "source": [
    "### Quiz 1\n",
    "\n",
    "Practice using Polybius table for \"Starry Dynamo\" with given table"
   ]
  },
  {
   "cell_type": "code",
   "execution_count": 13,
   "metadata": {},
   "outputs": [
    {
     "name": "stdout",
     "output_type": "stream",
     "text": [
      "XGFFGAFDFDXVDGXVAVGADXVX\n",
      "STARRYDYNAMO\n"
     ]
    }
   ],
   "source": [
    "table = {k:v for k,v in zip('21JUNE178DCMBRTVWXAF3GH4I5KL6OPQ9SYZ', [r+c for r in 'ADFGVX' for c in 'ADFGVX'])}\n",
    " \n",
    "# Encryption\n",
    "print(''.join([table[c] for c in 'STARRYDYNAMO']))\n",
    "\n",
    "# Decryption\n",
    "print(''.join([{v:k for k,v in table.items()}[c] for c in (lambda l: [l[i]+l[i+1] for i in range(0, len(l)-1, 2)])('XGFFGAFDFDXVDGXVAVGADXVX')]))"
   ]
  },
  {
   "attachments": {},
   "cell_type": "markdown",
   "metadata": {},
   "source": [
    "### Quiz 2\n",
    "E: 3a + 10 mod n\n",
    "\n",
    "D?\n",
    "\n",
    "Well, the options have 9 being multiplied and a quick check shoes that 9 IS the inverse (9x3 = 27 === 1 mod 26)\n",
    "\n",
    "And if Encrption does MULT and then ADD,\n",
    "then Decryption does SUB and then MULT_INV\n",
    "\n",
    "D = 9(y- 10) mod n"
   ]
  },
  {
   "attachments": {},
   "cell_type": "markdown",
   "metadata": {},
   "source": [
    "### Quiz 3\n",
    "\n"
   ]
  },
  {
   "cell_type": "code",
   "execution_count": 24,
   "metadata": {},
   "outputs": [
    {
     "data": {
      "text/plain": [
       "'INFINITYCAMYEDOWNANDSETTLEDOVERME'"
      ]
     },
     "execution_count": 24,
     "metadata": {},
     "output_type": "execute_result"
    }
   ],
   "source": [
    "''.join([chr((9*(ord(c) - 10 -0x41)) %26 + 0x41) for c in 'IXZIXIPEQKUEWTAYXKXTMWPPRWTAVWJUW'])"
   ]
  },
  {
   "attachments": {},
   "cell_type": "markdown",
   "metadata": {},
   "source": [
    "### Quiz 4\n",
    "\n",
    "For an alphabet of 27 letters, how many distinct affine encryptions are there?\n",
    "\n",
    "num(a) * num(b)\n",
    "\n",
    "27*18"
   ]
  },
  {
   "cell_type": "code",
   "execution_count": 34,
   "metadata": {},
   "outputs": [
    {
     "data": {
      "text/plain": [
       "'There are 18 invertible values for a: [1, 2, 4, 5, 7, 8, 10, 11, 13, 14, 16, 17, 19, 20, 22, 23, 25, 26]'"
      ]
     },
     "execution_count": 34,
     "metadata": {},
     "output_type": "execute_result"
    }
   ],
   "source": [
    "def gcd(a, b):\n",
    "    if (a % b == 0):\n",
    "        return b\n",
    "    return gcd(b, a % b)\n",
    "\n",
    "invertible = ([x for x in range(1, 27) if gcd(27, x)==1])\n",
    "\n",
    "f'There are {len(invertible)} invertible values for a: {invertible}'"
   ]
  }
 ],
 "metadata": {
  "kernelspec": {
   "display_name": "Python 3",
   "language": "python",
   "name": "python3"
  },
  "language_info": {
   "codemirror_mode": {
    "name": "ipython",
    "version": 3
   },
   "file_extension": ".py",
   "mimetype": "text/x-python",
   "name": "python",
   "nbconvert_exporter": "python",
   "pygments_lexer": "ipython3",
   "version": "3.10.1"
  },
  "orig_nbformat": 4,
  "vscode": {
   "interpreter": {
    "hash": "40430081c420884bc0c6cacdd19468c594457515a272ed1024804e3b83ddb8db"
   }
  }
 },
 "nbformat": 4,
 "nbformat_minor": 2
}
