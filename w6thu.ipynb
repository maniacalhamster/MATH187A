{
 "cells": [
  {
   "attachments": {},
   "cell_type": "markdown",
   "metadata": {},
   "source": [
    "## Warmup\n",
    "\n",
    "Guess period = 5\n",
    "\n",
    "3rd col most freq = F\n",
    "\n",
    "```\n",
    "plain:  --E--\n",
    "key:    --B--\n",
    "cipher: --F--\n",
    "```\n",
    "\n",
    "```\n",
    "my guess:   lober\n",
    "others:     noble\n",
    "            fable\n",
    "            babel\n",
    "```\n",
    "\n",
    "I like my guess better"
   ]
  },
  {
   "attachments": {},
   "cell_type": "markdown",
   "metadata": {},
   "source": [
    "## Q1\n",
    "\n",
    "```\n",
    "HRRH AHAQ HYVC HQBU XXUV POVX XQDC\n",
    "^^^^ ^            ^ ^^^^\n",
    "```"
   ]
  },
  {
   "attachments": {},
   "cell_type": "markdown",
   "metadata": {},
   "source": [
    "## Q2\n",
    "\n",
    "Plain freq:\n",
    "```\n",
    "B: 1.5%\n",
    "A: 7.3%\n",
    "N: 7.4%\n",
    "```\n",
    "\n",
    "1000 letter cipher w/ simple sub and known to have BANANA in plain\n",
    "\n",
    "If given observed counts of letters in ciphertext, we can find the value of G for QUNUNU\n",
    "\n",
    "> Note: for the expected freq of Q, U, and N,,, we can use (1000 letter)(plan freq for B A N) since they correspond in simple sub\n",
    "\n",
    "$$G = 2 \\sum_{\\{Q, U, N\\}}(O_i ln(\\frac{O_i}{E_i}))$$\n",
    "\n",
    "G = 2 * (83 ln(83/15) + (93 ln(93/73)) + (15 ln(15/74))) "
   ]
  },
  {
   "cell_type": "code",
   "execution_count": 8,
   "metadata": {},
   "outputs": [
    {
     "ename": "TypeError",
     "evalue": "<lambda>() missing 1 required positional argument: 'b'",
     "output_type": "error",
     "traceback": [
      "\u001b[1;31m---------------------------------------------------------------------------\u001b[0m",
      "\u001b[1;31mTypeError\u001b[0m                                 Traceback (most recent call last)",
      "\u001b[1;32mc:\\Users\\Akar\\Git\\UCSD\\MATH187\\w6thu.ipynb Cell 4\u001b[0m in \u001b[0;36m<cell line: 3>\u001b[1;34m()\u001b[0m\n\u001b[0;32m      <a href='vscode-notebook-cell:/c%3A/Users/Akar/Git/UCSD/MATH187/w6thu.ipynb#W5sZmlsZQ%3D%3D?line=0'>1</a>\u001b[0m \u001b[39mimport\u001b[39;00m \u001b[39mmath\u001b[39;00m\n\u001b[1;32m----> <a href='vscode-notebook-cell:/c%3A/Users/Akar/Git/UCSD/MATH187/w6thu.ipynb#W5sZmlsZQ%3D%3D?line=2'>3</a>\u001b[0m \u001b[39m2\u001b[39m\u001b[39m*\u001b[39m\u001b[39msum\u001b[39;49m(\u001b[39mmap\u001b[39;49m(\u001b[39mlambda\u001b[39;49;00m a,b: a \u001b[39m*\u001b[39;49m math\u001b[39m.\u001b[39;49mlog(a\u001b[39m/\u001b[39;49mb, math\u001b[39m.\u001b[39;49me), [(\u001b[39m83\u001b[39;49m, \u001b[39m15\u001b[39;49m), (\u001b[39m93\u001b[39;49m, \u001b[39m73\u001b[39;49m), (\u001b[39m15\u001b[39;49m, \u001b[39m74\u001b[39;49m)]))\n",
      "\u001b[1;31mTypeError\u001b[0m: <lambda>() missing 1 required positional argument: 'b'"
     ]
    }
   ],
   "source": [
    "import math\n",
    "\n",
    "2*sum(map(lambda a,b: a * math.log(a/b, math.e), [(83, 15), (93, 73), (15, 74)]))"
   ]
  },
  {
   "cell_type": "code",
   "execution_count": 18,
   "metadata": {},
   "outputs": [
    {
     "ename": "SyntaxError",
     "evalue": "can't use starred expression here (366977641.py, line 3)",
     "output_type": "error",
     "traceback": [
      "\u001b[1;36m  Input \u001b[1;32mIn [18]\u001b[1;36m\u001b[0m\n\u001b[1;33m    *[(1,2)]\u001b[0m\n\u001b[1;37m    ^\u001b[0m\n\u001b[1;31mSyntaxError\u001b[0m\u001b[1;31m:\u001b[0m can't use starred expression here\n"
     ]
    }
   ],
   "source": [
    "# sum(map(lambda (a,b): a+b, [(1,2)]))\n",
    "\n",
    "*[(1,2)]"
   ]
  },
  {
   "attachments": {},
   "cell_type": "markdown",
   "metadata": {},
   "source": [
    "Expected value was calculated wrong:\n",
    "\n",
    "```\n",
    "Exp_B = 15\n",
    "Exp_A = 73\n",
    "Exp_N = 74\n",
    "Tot_plain = 162\n",
    "\n",
    "Obs_Q = 83\n",
    "Obs_U = 93\n",
    "Obs_N = 15\n",
    "Tot_ciph = 191\n",
    "\n",
    "Exp_Q = Exp_B * (tot_ciph / tot_plain)\n",
    "Exp_U = Exp_A * (tot_ciph / tot_plain)\n",
    "Exp_N = Exp_N * (tot_ciph / tot_plain)\n",
    "```\n"
   ]
  },
  {
   "cell_type": "code",
   "execution_count": 22,
   "metadata": {},
   "outputs": [
    {
     "data": {
      "text/plain": [
       "218.24216096607256"
      ]
     },
     "execution_count": 22,
     "metadata": {},
     "output_type": "execute_result"
    }
   ],
   "source": [
    "O_E = [(83, 15*(191/162)), (93, 73*(191/162)), (15, 74*(191/162))]\n",
    "\n",
    "2*sum([(lambda a,b: a * math.log(a/b, math.e))(a, b) for a,b in O_E])"
   ]
  },
  {
   "attachments": {},
   "cell_type": "markdown",
   "metadata": {},
   "source": [
    "# Perfect Secrecy\n",
    "\n",
    "Salient = important\n",
    "\n",
    "- space of keys >= space of ciphertext\n",
    "    > \"whole lotta keys\"\n",
    "- $\\forall c \\in C, \\forall (m1, m2) \\in M^2, \\forall k \\in K: \\{P(E(m1,k) = c) == P(E(m2, k) = c)\\}$\n",
    "    > C & M (rand vars) are independent\n",
    "    > observing ciphertext gives you NO info about corresponding plaintext\n"
   ]
  },
  {
   "attachments": {},
   "cell_type": "markdown",
   "metadata": {},
   "source": [
    "## Defn of CrypoSystem\n",
    "\n",
    "- M: plaintext rand var\n",
    "  - $M$: possible messages\n",
    "\n",
    "- K: key rand var\n",
    "  - $K$: possible keys\n",
    "\n",
    "- C: ciphertext rand var\n",
    "  - $C$: possible ciphertexts\n",
    "\n",
    ".\n",
    "\n",
    "- E: $K \\times M \\rightarrow C$\n",
    "- D: $K \\times C \\rightarrow M$\n",
    "  - D(k, E(k, m)) = m\n",
    "  - for k $\\in K$, m $\\in M$\n"
   ]
  }
 ],
 "metadata": {
  "kernelspec": {
   "display_name": "Python 3",
   "language": "python",
   "name": "python3"
  },
  "language_info": {
   "codemirror_mode": {
    "name": "ipython",
    "version": 3
   },
   "file_extension": ".py",
   "mimetype": "text/x-python",
   "name": "python",
   "nbconvert_exporter": "python",
   "pygments_lexer": "ipython3",
   "version": "3.10.1"
  },
  "orig_nbformat": 4,
  "vscode": {
   "interpreter": {
    "hash": "40430081c420884bc0c6cacdd19468c594457515a272ed1024804e3b83ddb8db"
   }
  }
 },
 "nbformat": 4,
 "nbformat_minor": 2
}
