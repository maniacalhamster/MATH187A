{
 "cells": [
  {
   "cell_type": "code",
   "execution_count": 1,
   "metadata": {},
   "outputs": [],
   "source": [
    "# Sieve of Aritosthenes\n",
    "\"\"\"\n",
    "This was a side project of mine from around a year ago\n",
    "\n",
    "Programming a way to generate a prime list using the \n",
    "sieve of Aritosthenes method\n",
    "\"\"\"\n",
    "\n",
    "def run_sieve(n = 20):\n",
    "    primes = [1]\n",
    "    mults = [1]\n",
    "\n",
    "    for i in range(2,n+1):\n",
    "        if (i not in mults):\n",
    "            primes.append(i)\n",
    "            [mults.append(i*j) for j in range(i, n//i+1)]\n",
    "    \n",
    "    return primes"
   ]
  },
  {
   "cell_type": "code",
   "execution_count": 3,
   "metadata": {},
   "outputs": [
    {
     "data": {
      "text/plain": [
       "[2, 3, 5, 7, 11, 13, 17, 19, 23, 29, 31, 37]"
      ]
     },
     "execution_count": 3,
     "metadata": {},
     "output_type": "execute_result"
    }
   ],
   "source": [
    "run_sieve(40)[1:]"
   ]
  },
  {
   "attachments": {},
   "cell_type": "markdown",
   "metadata": {},
   "source": [
    "$$\n",
    "\\sum \\frac{1}{p_i} = \\frac{???}{\\prod p_i}\n",
    "$$\n",
    "\n",
    "- note that for any $p_i$:\n",
    "  - Every term in numberator is divisible by $p_i$ EXCEPT for $(i+1)^{th}$ term\n",
    "  - "
   ]
  },
  {
   "attachments": {},
   "cell_type": "markdown",
   "metadata": {},
   "source": [
    "## Practice Problem 1"
   ]
  },
  {
   "cell_type": "code",
   "execution_count": 62,
   "metadata": {},
   "outputs": [
    {
     "name": "stdout",
     "output_type": "stream",
     "text": [
      "5(60) - 13(23) = 1\n",
      "\n",
      "d*e % phi check\n",
      "-13 * 23 % 60 = 1\n",
      "\n",
      "We know that a^phi === 1 (mod n)\n",
      "given gcd(a, n) = 1\n"
     ]
    }
   ],
   "source": [
    "p,q,e = 7, 11, 23\n",
    "\n",
    "n = p*q\n",
    "phi = (p-1)*(q-1)\n",
    "\n",
    "# d = e^-1 mod phi\n",
    "# \n",
    "# gcd(23, 60)\n",
    "# 60 = 23*2 + 14\n",
    "# 23 = 14 + 9\n",
    "# 14 = 9 + 5\n",
    "#  9 = 5 + 4\n",
    "#  5 = 4 + 1\n",
    "\n",
    "# 5 - 4 = 1\n",
    "# (9-4) - 4 = 1\n",
    "\n",
    "23*-20, 60*8\n",
    "for i in range(1, 20):\n",
    "    for j in range(1, 10):\n",
    "        if 23*(-1*i) + 60*j == 1:\n",
    "            print(f\"{j}(60) - {i}(23) = {j*60 - i*23}\")\n",
    "            break\n",
    "\n",
    "d = -13\n",
    "\n",
    "# Check if inv mod phi\n",
    "print()\n",
    "print(\"d*e % phi check\")\n",
    "print(f\"{d} * {e} % {phi} = {d*e % phi}\")\n",
    "print()\n",
    "\n",
    "print(\"We know that a^phi === 1 (mod n)\")\n",
    "print(\"given gcd(a, n) = 1\")"
   ]
  },
  {
   "attachments": {},
   "cell_type": "markdown",
   "metadata": {},
   "source": [
    "## Practice Problem 2"
   ]
  },
  {
   "cell_type": "code",
   "execution_count": 11,
   "metadata": {},
   "outputs": [
    {
     "name": "stdout",
     "output_type": "stream",
     "text": [
      "19(40) - 33(23) = 1\n",
      "d === 7\n",
      "c**d % n check\n",
      "2**7 % 55 = 18\n"
     ]
    }
   ],
   "source": [
    "n,e,c = 55, 23, 2\n",
    "\n",
    "p,q = 5, 11\n",
    "\n",
    "phi = (p-1)*(q-1)\n",
    "\n",
    "for i in range(1, 40):\n",
    "    for j in range(1, 20):\n",
    "        if (phi*j - i*e) == 1:\n",
    "            print(f\"{j}({phi}) - {i}({e}) = {j*phi - i*e}\")\n",
    "\n",
    "d = -33 % phi\n",
    "print(f\"d === {d}\")\n",
    "\n",
    "m = c**d % n\n",
    "print(\"c**d % n check\")\n",
    "print(f\"{c}**{d} % {n} = {m}\")"
   ]
  },
  {
   "attachments": {},
   "cell_type": "markdown",
   "metadata": {},
   "source": [
    "## General Functions"
   ]
  },
  {
   "cell_type": "code",
   "execution_count": 16,
   "metadata": {},
   "outputs": [],
   "source": [
    "# Sieve of Aritosthenes\n",
    "\"\"\"\n",
    "This was a side project of mine from around a year ago\n",
    "\n",
    "Programming a way to generate a prime list using the \n",
    "sieve of Aritosthenes method\n",
    "\"\"\"\n",
    "\n",
    "def run_sieve(n = 20):\n",
    "    primes = [1]\n",
    "    mults = [1]\n",
    "\n",
    "    for i in range(2,n+1):\n",
    "        if (i not in mults):\n",
    "            primes.append(i)\n",
    "            [mults.append(i*j) for j in range(i, n//i+1)]\n",
    "    \n",
    "    return primes"
   ]
  },
  {
   "cell_type": "code",
   "execution_count": 17,
   "metadata": {},
   "outputs": [
    {
     "data": {
      "text/plain": [
       "[False, False, True, True]"
      ]
     },
     "execution_count": 17,
     "metadata": {},
     "output_type": "execute_result"
    }
   ],
   "source": [
    "def is_prime(n):\n",
    "    return not any([n%i == 0 for i in range(2, int(n**.5)+1)])\n",
    "\n",
    "[is_prime(a) for a in [9, 10, 11, 701]]"
   ]
  },
  {
   "cell_type": "code",
   "execution_count": 18,
   "metadata": {},
   "outputs": [
    {
     "data": {
      "text/plain": [
       "[[1, 1231], [1, 2, 2, 2, 2, 7, 11]]"
      ]
     },
     "execution_count": 18,
     "metadata": {},
     "output_type": "execute_result"
    }
   ],
   "source": [
    "class continue_outer(Exception):\n",
    "    pass\n",
    "\n",
    "def get_prime_factorization(n):\n",
    "    sqrt_n = int(n**.5) + 1\n",
    "    primes = run_sieve(sqrt_n)\n",
    "\n",
    "    primelist = []\n",
    "    while (n != 1):\n",
    "        try:\n",
    "            for k in primes[1:]:\n",
    "                if n%k==0:\n",
    "                    primelist.append(k)\n",
    "                    n //= k\n",
    "                    raise continue_outer\n",
    "        except continue_outer:\n",
    "            continue\n",
    "        primelist.append(n)\n",
    "        n //= n\n",
    "    return [1] + primelist\n",
    "\n",
    "[get_prime_factorization(i) for i in [1231, 1232]]"
   ]
  },
  {
   "cell_type": "code",
   "execution_count": 19,
   "metadata": {},
   "outputs": [
    {
     "name": "stdout",
     "output_type": "stream",
     "text": [
      "phi(12)=4\n",
      "phi(13)=12\n",
      "phi(14)=6\n",
      "phi(15)=8\n"
     ]
    },
    {
     "data": {
      "text/plain": [
       "[None, None, None, None]"
      ]
     },
     "execution_count": 19,
     "metadata": {},
     "output_type": "execute_result"
    }
   ],
   "source": [
    "def gcd(n, r):\n",
    "    if r==0:\n",
    "        return n\n",
    "    return gcd (r, n%r)\n",
    "\n",
    "def phi(n):\n",
    "    return len([i for i in range(1, n) if gcd(n, i) == 1])\n",
    "\n",
    "[print(f'phi({n})={phi(n)}') for n in [12, 13, 14, 15]]"
   ]
  },
  {
   "cell_type": "code",
   "execution_count": 20,
   "metadata": {},
   "outputs": [
    {
     "data": {
      "text/plain": [
       "[8, 20, 8, 24, 16]"
      ]
     },
     "execution_count": 20,
     "metadata": {},
     "output_type": "execute_result"
    }
   ],
   "source": [
    "from functools import reduce\n",
    "from collections import Counter\n",
    "\n",
    "def phi_e(n):\n",
    "    return reduce(lambda a,b: a*b, [p**(e-1) * (p-1) for p,e in Counter(get_prime_factorization(n)[1:]).items()], 1)\n",
    "\n",
    "# Test with the other phi function defined\n",
    "# phi_e(20) == phi(20), phi_e(25) == phi(25), phi_e(30) == phi(30), phi_e(35) == phi(35), phi_e(40) == phi(40)\n",
    "\n",
    "[phi_e(v) for v in [20, 25, 30, 35, 40]]"
   ]
  },
  {
   "cell_type": "code",
   "execution_count": 21,
   "metadata": {},
   "outputs": [
    {
     "data": {
      "text/plain": [
       "(30, 'BE')"
      ]
     },
     "execution_count": 21,
     "metadata": {},
     "output_type": "execute_result"
    }
   ],
   "source": [
    "def letter_to_num(msg):\n",
    "    return sum([26**(len(msg) - 1 - i) * (ord(msg[i])-65) for i in range(len(msg))])\n",
    "\n",
    "letter_to_num(\"BE\")\n",
    "\n",
    "def ltm_enc(msg):\n",
    "    return sum([26**(len(msg) - 1 - i) * (ord(msg[i])-65) for i in range(len(msg))])\n",
    "\n",
    "def ltm_dec(msg):\n",
    "    if (msg == 0):\n",
    "        return \"\"\n",
    "    return ltm_dec(msg//26) + chr(msg%26 + 65)\n",
    "\n",
    "ltm_enc(\"BE\"), ltm_dec(30)"
   ]
  },
  {
   "cell_type": "code",
   "execution_count": 132,
   "metadata": {},
   "outputs": [
    {
     "data": {
      "text/plain": [
       "(7, 23)"
      ]
     },
     "execution_count": 132,
     "metadata": {},
     "output_type": "execute_result"
    }
   ],
   "source": [
    "# slow as hell, lazy brute force \n",
    "# only for smaller values of n\n",
    "def mod_inv(n, r, k = 40):\n",
    "    for i in range(k):\n",
    "        for j in range(k):\n",
    "            if j*n - i*r == 1:\n",
    "                return -i%n\n",
    "            if i*r - j*n == 1:\n",
    "                return i%n\n",
    "\n",
    "mod_inv(40, 23), mod_inv(40, 7)"
   ]
  },
  {
   "cell_type": "code",
   "execution_count": null,
   "metadata": {},
   "outputs": [
    {
     "data": {
      "text/plain": [
       "(18, 17)"
      ]
     },
     "execution_count": 33,
     "metadata": {},
     "output_type": "execute_result"
    }
   ],
   "source": [
    "def rsa_enc(m, pub_key):\n",
    "    n, e = pub_key\n",
    "    c = m**e % n\n",
    "    return c\n",
    "\n",
    "def rsa_dec(c, priv_key):\n",
    "    n, d = priv_key\n",
    "    m = c**d % n\n",
    "    return m\n",
    "\n",
    "n,e = 55, 23\n",
    "\n",
    "p,q = get_prime_factorization(n)[1:]\n",
    "phi = (p-1)*(q-1)\n",
    "\n",
    "pub_key = (n, e)\n",
    "d = mod_inv(phi, e)\n",
    "priv_key = (n, d)\n",
    "\n",
    "m = 17\n",
    "rsa_enc(m, pub_key), rsa_dec(rsa_enc(m, priv_key), pub_key)"
   ]
  },
  {
   "attachments": {},
   "cell_type": "markdown",
   "metadata": {},
   "source": [
    "## \"Actual\" RSA\n",
    "\n",
    "The examples in class only work for a single char messages\n",
    "\n",
    "We restrict ourselves to values between [0,n]\n",
    "\n",
    "And the `ltm` encode and decoding combines all letters together into a single value\n",
    "\n",
    "---\n",
    "\n",
    "Wanted to do some \"actual\" RSA \n",
    "- large enough n to encrypt all ASCII chars (at least 2**8 = 256)\n",
    "- perform the `rsa_enc` and `rsa_dec` on each individual char, doing a simple `ord` and `chr` conversion only is required\n",
    "\n",
    "> Note: still gonna be lowballing the numbers to work through stuff easier"
   ]
  },
  {
   "cell_type": "code",
   "execution_count": 117,
   "metadata": {},
   "outputs": [],
   "source": [
    "def ascii_enc(msg):\n",
    "    return [ord(c) for c in msg]\n",
    "\n",
    "def ascii_dec(asc):\n",
    "    return ''.join([chr(a) for a in asc])"
   ]
  },
  {
   "cell_type": "code",
   "execution_count": 109,
   "metadata": {},
   "outputs": [
    {
     "data": {
      "text/plain": [
       "(256, [1, 2, 3, 5, 7, 11, 13, 17, 19, 23, 29, 31, 37, 41, 43, 47])"
      ]
     },
     "execution_count": 109,
     "metadata": {},
     "output_type": "execute_result"
    }
   ],
   "source": [
    "# For picking prime values (p, q)\n",
    "# -- choosing around the value of sqrt(2**8) shuold hit the min 256 value\n",
    "(2**8), run_sieve(50)"
   ]
  },
  {
   "cell_type": "code",
   "execution_count": 134,
   "metadata": {},
   "outputs": [
    {
     "data": {
      "text/plain": [
       "((7, 43, 301), (1, 252, 17, 89))"
      ]
     },
     "execution_count": 134,
     "metadata": {},
     "output_type": "execute_result"
    }
   ],
   "source": [
    "# Extremely lowballing the numbers so we can still show vulns\n",
    "p,q,d = 7, 43, 17\n",
    "n = p*q\n",
    "\n",
    "# Run prime_factorization to figure out phi\n",
    "phi = phi_e(n)\n",
    "\n",
    "# Use phi to calc mod_inv of d\n",
    "e = mod_inv(phi, d, k=100)\n",
    "\n",
    "# Checking values here\n",
    "(p, q, n), (gcd(phi, d), phi, d, e)"
   ]
  },
  {
   "cell_type": "code",
   "execution_count": 136,
   "metadata": {},
   "outputs": [
    {
     "data": {
      "text/plain": [
       "('\\x8c>|\\x9cM|¼ć\\x9cöRõēM|m\\x9c\\x99\\x1b|ć\\x9c¸>|\\x9cē\\x994¹¸¼õ¹Ĕ',\n",
       " 'The bear climbed over the mountain!')"
      ]
     },
     "execution_count": 136,
     "metadata": {},
     "output_type": "execute_result"
    }
   ],
   "source": [
    "# pubkey and privkey pair \n",
    "pub_key = (n, e)\n",
    "priv_key = (n, d)\n",
    "\n",
    "# ascii encode the message\n",
    "M = ascii_enc(\"The bear climbed over the mountain!\")\n",
    "\n",
    "# rsa encrypt into ciphertext\n",
    "C = [rsa_enc(m, pub_key) for m in M]\n",
    "\n",
    "# rsa decrypt back into message\n",
    "M_prime = [rsa_dec(c, priv_key) for c in C]\n",
    "\n",
    "# ascii decode the ciphertext and the decrypted message\n",
    "ascii_dec(C), ascii_dec(M_prime)"
   ]
  },
  {
   "attachments": {},
   "cell_type": "markdown",
   "metadata": {},
   "source": [
    "# Discussion Notes\n",
    "\n",
    "## Announcements\n",
    "- Quiz 6 on Monday\n",
    "  - Expect a difficult Euler phi function question \n",
    "\n",
    "## Overview\n",
    "1. Euler phi function\n",
    "2. Miller Rabin test\n",
    "3. RSA"
   ]
  },
  {
   "attachments": {},
   "cell_type": "markdown",
   "metadata": {},
   "source": [
    "## Q1\n",
    "\n",
    "Find all primes $p$ \n",
    "- s.t. $p | 29^p + 1$\n",
    "\n",
    "$$\n",
    "a, n \\in Z_{>0}\\\\\n",
    "gcd(a, n) = 1\\\\\n",
    "\\\\\n",
    "a^{\\phi(n)} \\equiv 1 \\text{mod n}\\\\\n",
    "n^{\\phi(a)} \\equiv 1 \\text{mod a}\n",
    "$$\n",
    "\n",
    "$\\phi(p) = p - 1$\n",
    "\n",
    "Note: 29 is prime. We have $phi(29) = 28$ numbers coprime to 29 that are lower than 29\n",
    "\n",
    "let p = 29\n",
    "\n",
    "29 | 29^29 + 1\n",
    "\n",
    "29 | 29^29 = 0\n",
    "29 | 29^29 + 1 = 1\n",
    "\n",
    "gcd(29, p) = 1 \n",
    "\n",
    "$$\n",
    "29^{\\phi(p)} \\equiv 1 \\text{\\qquad mod p}\\\\\n",
    "29^{p-1} \\equiv 1 \\text{\\qquad mod p}\\\\\n",
    "29^{p} \\equiv 29 \\text{\\qquad mod p}\\\\\n",
    "29^{p} + 1 \\equiv 30 \\text{\\qquad mod p}\\\\\n",
    "$$\n",
    "\n",
    "IF p | 29^p + 1 <==> p | 30\n",
    "\n",
    "$$\n",
    "29^{p} + 1 \\equiv 30 \\text{\\qquad mod p}\\\\\n",
    "29^{p} + 1 \\equiv 0 \\text{\\qquad mod p}\\\\\n",
    "30         \\equiv 0 \\text{\\qquad mod p}\\\\\n",
    "$$\n",
    "\n",
    "30 = 3x5x2\n",
    "\n",
    "p = {3, 5, 2}"
   ]
  },
  {
   "attachments": {},
   "cell_type": "markdown",
   "metadata": {},
   "source": [
    "## Q2\n",
    "\n",
    "Prove that\n",
    "- for a, m, x, y integers \n",
    "- s.t. gcd(a,m) = 1\n",
    "- if x = y mod $\\phi(m)$\n",
    "- then $a^x = a^y$ mod $\\phi(m)$\n"
   ]
  },
  {
   "attachments": {},
   "cell_type": "markdown",
   "metadata": {},
   "source": [
    "### Example\n",
    "- Last 3 digits of $7^{803}$\n",
    "- AKA mod 1000 [mod 10^3]\n",
    "\n",
    "$$\n",
    "7^{803} \\text{\\qquad mod 1000}\\\\\n",
    "a^y \\equiv a^x \\text{\\qquad mod m}\\\\\n",
    "$$\n",
    "\n",
    "$$\n",
    "\\begin{align*}\n",
    "\\phi(1000) &= \\phi(2^3 * 5^3)\\\\\n",
    "           &= \\phi(2^3)*\\phi(5^3)\\\\\n",
    "           &= 2^2(1) * 5^2(4)\\\\\n",
    "           &= 400\n",
    "\\end{align*}\n",
    "$$\n",
    "\n",
    "> food for thought: why is phi multipicative?\n",
    "  - I think it's something to do with. Any product of primes has to retain coprime list of BOTH\n",
    "\n",
    "$$\n",
    "\\begin{align*}\n",
    "803 &= 2(400) + 3\\\\\n",
    "803 &\\equiv 3 \\text{\\qquad mod(400)}\n",
    "\\end{align*}\n",
    "$$\n",
    "\n",
    "$$\n",
    "\\begin{align*}\n",
    "7^{803} &\\equiv 7^3 \\text{\\qquad mod 1000}\\\\\n",
    "        &= 7^3 \\text{\\qquad mod 1000}\n",
    "\\end{align*}\n",
    "$$"
   ]
  },
  {
   "attachments": {},
   "cell_type": "markdown",
   "metadata": {},
   "source": [
    "### Example:\n",
    "2^1000 is divided by 13\n",
    "\n",
    "-- find the remainder\n",
    "\n",
    "1. $\\phi(13) = 12$\n",
    "2. 1000 $\\equiv$ 4 (mod 12)\n",
    "    - 8*12 = 96\n",
    "    - 80*12 = 960\n",
    "    - 83*12 = 960 + 36 = 996\n",
    "    - 4 left over\n",
    "3. $2^1000 \\equiv 2^4$ (mod 13)\n",
    "4. $2^1000 \\equiv 3 $ (mod 13)"
   ]
  },
  {
   "attachments": {},
   "cell_type": "markdown",
   "metadata": {},
   "source": [
    "### Proof\n",
    "\n",
    "Known:\n",
    "$$\n",
    "\\begin{align*}\n",
    "a^{\\phi(m)} &\\equiv 1 \\text{\\qquad mod m}\\\\\n",
    "x           &\\equiv y \\text{\\qquad mod ($\\phi(m)$)}\\\\\n",
    "\\end{align*}\n",
    "$$\n",
    "\n",
    "Step 1:\n",
    "$$\n",
    "x \\equiv y \\text{\\qquad $\\phi(m)$}\\\\\n",
    "x = y + k(\\phi(m))\\\\\n",
    "$$\n",
    "\n",
    "Step 2:\n",
    "$$\n",
    "\\begin{align*}\n",
    "a^x &= a^{y + k\\phi(m)} \\\\\n",
    "    &= a^y a^{k\\phi(m)} \\\\\n",
    "    &= a^y (a^{\\phi(m)})^k \\\\\n",
    "    &\\equiv a^y (1)^k   &\\text{\\qquad mod m}\\\\\n",
    "    &\\equiv a^y         &\\text{\\qquad mod m}\\\\\n",
    "\\end{align*}\n",
    "$$"
   ]
  },
  {
   "attachments": {},
   "cell_type": "markdown",
   "metadata": {},
   "source": [
    "## Q3\n",
    "\n",
    "87 in binary:\n",
    "\n",
    "```\n",
    "87 = 43(2) + 1\n",
    "43 = 21(2) + 1\n",
    "21 = 10(2) + 1\n",
    "10 = 5(2) + 0\n",
    "5  = 2(2) + 1\n",
    "2  = 1(2) + 0\n",
    "1  = 0(2) + 1\n",
    "\n",
    "0  = 0(2) + 0\n",
    "```\n",
    "\n",
    "`0b1010111`\n",
    "\n",
    "---\n",
    "\n",
    "86 in binary:\n",
    "\n",
    "```\n",
    "86 = 43(2) + 0\n",
    "43 = 21(2) + 1\n",
    "21 = 10(2) + 1\n",
    "10 = 5(2) + 0\n",
    "5  = 2(2) + 1\n",
    "2  = 1(2) + 0\n",
    "1  = 0(2) + 1\n",
    "```\n",
    "\n",
    "`0b1010110`"
   ]
  },
  {
   "attachments": {},
   "cell_type": "markdown",
   "metadata": {},
   "source": [
    "$5^242$ mod 108\n",
    "\n",
    "- $\\phi(108) = 36$\n",
    "- $242 \\equiv 26$ mod $\\phi(108)$\n",
    "- 26 = `0b10110`\n",
    "\n",
    "$5^26$ mod 108\n",
    "\n",
    "$5^2 * 5^8 * 5^16$ mod 108"
   ]
  },
  {
   "attachments": {},
   "cell_type": "markdown",
   "metadata": {},
   "source": [
    "## Last Minute Announcements\n",
    "\n",
    "Thm:\n",
    "- if a, n > 0\n",
    "- let $r = b_0 b_1 ... b_n$\n",
    "- then $a^r$ mod n = $\\prod a^{b_i}$ mod n\n",
    "\n",
    "HW:\n",
    "- compute $5^{23}$ mod 49"
   ]
  },
  {
   "cell_type": "markdown",
   "metadata": {},
   "source": []
  }
 ],
 "metadata": {
  "kernelspec": {
   "display_name": "Python 3",
   "language": "python",
   "name": "python3"
  },
  "language_info": {
   "codemirror_mode": {
    "name": "ipython",
    "version": 3
   },
   "file_extension": ".py",
   "mimetype": "text/x-python",
   "name": "python",
   "nbconvert_exporter": "python",
   "pygments_lexer": "ipython3",
   "version": "3.10.1"
  },
  "orig_nbformat": 4,
  "vscode": {
   "interpreter": {
    "hash": "40430081c420884bc0c6cacdd19468c594457515a272ed1024804e3b83ddb8db"
   }
  }
 },
 "nbformat": 4,
 "nbformat_minor": 2
}
