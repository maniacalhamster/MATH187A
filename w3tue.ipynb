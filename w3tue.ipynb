{
 "cells": [
  {
   "attachments": {},
   "cell_type": "markdown",
   "metadata": {},
   "source": [
    "# 2.9 Modular Linear Algebra\n",
    "\n",
    "Readings went over some Lin Alg reiew including definitions for:\n",
    "- Matrix\n",
    "- determinant\n",
    "- identity Matrix\n",
    "- Vector multiplication\n",
    "- Matrix multiplication\n",
    "\n",
    "Not going over them here for sake of time, they are easily google-able"
   ]
  },
  {
   "attachments": {},
   "cell_type": "markdown",
   "metadata": {},
   "source": [
    "## 2.9.2 Exercise\n",
    "\n",
    "Show $AI = IA = A$\n",
    "\n",
    "> skip"
   ]
  },
  {
   "attachments": {},
   "cell_type": "markdown",
   "metadata": {},
   "source": [
    "## 2.9.3 Theorem of Multiplicity of Determinant\n",
    "\n",
    "det(I) = 1\n",
    "\n",
    "det(AB) = det(A)det(B)"
   ]
  },
  {
   "attachments": {},
   "cell_type": "markdown",
   "metadata": {},
   "source": [
    "## 2.9.6 Defn (Matrix Modular Congruency)\n",
    "\n",
    "For\n",
    "\n",
    "$$ A = \\begin{bmatrix} a & b\\\\ c & d\\end{bmatrix} $$\n",
    "$$ B = \\begin{bmatrix} a' & b'\\\\ c' & d'\\end{bmatrix} $$\n",
    "\n",
    "If\n",
    "\n",
    "$$\n",
    "a \\equiv a' \\text{  (mod n)}\\\\\n",
    "b \\equiv b' \\text{  (mod n)}\\\\\n",
    "c \\equiv c' \\text{  (mod n)}\\\\\n",
    "d \\equiv d' \\text{  (mod n)}\\\\\n",
    "$$\n",
    "\n",
    "Then\n",
    "\n",
    "$$ A \\equiv B \\text{  (mod n)} $$"
   ]
  },
  {
   "attachments": {},
   "cell_type": "markdown",
   "metadata": {},
   "source": [
    "## 2.9.7 Defn (Matrix Modular Invertibility)\n",
    "\n",
    "A matrix A \"is invertile mod n\" if there exists a matrix X such that\n",
    "$$ AX \\equiv I \\text{  (mod n)} $$\n",
    "\n",
    "If so, then X is \"an inverse of A mod n\"\n",
    "$$ X \\equiv A^{-1} \\text{  (mod n)} $$"
   ]
  },
  {
   "attachments": {},
   "cell_type": "markdown",
   "metadata": {},
   "source": [
    "## 2.9.8 Matrix Inversion Theorem\n",
    "\n",
    "Suppose $ A = \\begin{bmatrix} a & b\\\\ c & d \\end{bmatrix}$ is a matrix.\n",
    "\n",
    "Then $A$ is invertible IFF $det(A)$ is invertible mod n.\n",
    "\n",
    "If $e \\equiv det(A)^{-1}$ (mod n), then\n",
    "\n",
    "$$ X = \\begin{bmatrix}ed & -eb\\\\ -ec & ea\\end{bmatrix} $$\n",
    "\n",
    "X is an inverse of A mod n"
   ]
  },
  {
   "attachments": {},
   "cell_type": "markdown",
   "metadata": {},
   "source": [
    "### Proof (attempt)\n",
    "\n",
    "Couldn't figure out a derivation so I settled for the proof\n",
    "\n",
    "Given,\n",
    "$$\n",
    "\\begin{align*}\n",
    "det (A) &= ad - bc \\\\\n",
    "e(det(A)) &\\equiv 1 \\text{  (mod n)}\\\\\n",
    "\\end{align*}\n",
    "$$\n",
    "\n",
    "Then,\n",
    "$$\n",
    "\\begin{align*}\n",
    "AX &= \\begin{bmatrix} \n",
    "            a(ed)+b(-ec) & a(-eb)+b(ea)\\\\ \n",
    "            c(ed)+d(-ec) & c(-eb)+d(ea)\n",
    "    \\end{bmatrix}\\\\\n",
    "\n",
    "   &= \\begin{bmatrix} \n",
    "            e(ad-bc) & e(-ab+ba)\\\\ \n",
    "            e(cd-dc) & e(-cb+da)\n",
    "    \\end{bmatrix}\\\\\n",
    "\n",
    "   &\\equiv \\begin{bmatrix} \n",
    "            1 & 0\\\\ \n",
    "            0 & 1\n",
    "    \\end{bmatrix} \\text{  (mod n)} \\\\\n",
    "\n",
    "   &\\equiv I \\text{  (mod n)} \\\\\n",
    "\\end{align*}\n",
    "   \n",
    "$$"
   ]
  },
  {
   "attachments": {},
   "cell_type": "markdown",
   "metadata": {},
   "source": [
    "# 2.10 Hill Cipher\n",
    "\n",
    "1. Encoding into ASCII values\n",
    "2. Find an key, A (nxn matrix), that's [invertible mod 26](#297-defn-matrix-modular-invertibility)\n",
    "3. Encoded message into nx1 vectors and iterate\n",
    "   - compute `Av mod 26` to encrypt each message vector\n",
    "\n",
    "To decode, use inverse key (X) and iterate ciphertext vectors, applying `Xv mod 26`"
   ]
  },
  {
   "attachments": {},
   "cell_type": "markdown",
   "metadata": {},
   "source": [
    "## 2.10.1 Exercise\n",
    "\n",
    "Practice encryption and decryption"
   ]
  },
  {
   "cell_type": "code",
   "execution_count": 1,
   "metadata": {},
   "outputs": [
    {
     "data": {
      "text/plain": [
       "True"
      ]
     },
     "execution_count": 1,
     "metadata": {},
     "output_type": "execute_result"
    }
   ],
   "source": [
    "# I GUESS I FINALLY HAVE TO FIGURE OUT EXTENDED GCD\n",
    "n, a = 26, 17\n",
    "\n",
    "def gcd(n, a):\n",
    "    while (not n % a == 0):\n",
    "        n, a = a, n % a\n",
    "    \n",
    "    return a\n",
    "\n",
    "# n = qa + r\n",
    "# n - qa = r\n",
    "def ext_gcd(n, a):\n",
    "    if a == 0:\n",
    "        return 1, 0, n\n",
    "    \n",
    "    q = n//a\n",
    "    r = n%a\n",
    "    x, y, g = ext_gcd(a, r)\n",
    "    return y, x - q*y, g\n",
    "\n",
    "x, y, g = ext_gcd(n, a)\n",
    "x*n+y*a == g"
   ]
  },
  {
   "cell_type": "code",
   "execution_count": 2,
   "metadata": {},
   "outputs": [
    {
     "name": "stdout",
     "output_type": "stream",
     "text": [
      "UAHNHLMMPNZE\n",
      "PSCGGJTMXUNH\n"
     ]
    }
   ],
   "source": [
    "def det(matrix):\n",
    "    if (not len(matrix) == len(matrix[0])):\n",
    "        return \"CANNOT FIND DET OF NON-SQUARE MATRIX\"\n",
    "    \n",
    "    n = len(matrix) - 1\n",
    "    return matrix[0][0]*matrix[n][n] - matrix[0][n]*matrix[n][0]\n",
    "\n",
    "def coeff(C, mat):\n",
    "    return [[C*c for c in r] for r in mat]\n",
    "\n",
    "# [[a, b], [c, d]] * [[x], [y]]\n",
    "# [[ax + by], [cx + dy]]\n",
    "def vec(mat, v):\n",
    "    if (not len(mat[0]) == len(v)):\n",
    "        return \"invalid mult\"\n",
    "    return (lambda arr: (arr[0], arr[1]))([sum(r[i]*v[i] for i in range(len(v)))%26 for r in mat])\n",
    "\n",
    "# Enc/Dec goes through same process. Only diff is the key (A enc) (X dec)\n",
    "def Hill(enc, mat):\n",
    "    return ''.join([chr(c+0x41) for c in list(sum([vec(mat, v) for v in enc], ()))])\n",
    "\n",
    "A = [[3, 2], [1, 7]]\n",
    "e = ext_gcd(26, det(A))[1]\n",
    "X = coeff(e, A)\n",
    "\n",
    "message = [ord(c)-0x41 for c in 'GOTOLAKELERNA']\n",
    "cipher = [ord(c)-0x41 for c in 'RNCQYVFRRLZI']\n",
    "\n",
    "# Encoding Go To Lake Lerna\n",
    "print(Hill([(message[2*i],message[2*i+1]) for i in range(len(message)//2)], A))\n",
    "\n",
    "# Decoding RNCQYVFRRLZI\n",
    "print(Hill([(cipher[2*i],cipher[2*i+1]) for i in range(len(cipher)//2)], X))"
   ]
  },
  {
   "attachments": {},
   "cell_type": "markdown",
   "metadata": {},
   "source": [
    "FUCK! \n",
    "\n",
    "KATIE LIU WAS RIGHT, I NEEDED TO INVERT THE MATRIX TOO BEFORE MULTIPLYINB BY THE INV_DET\n",
    "\n",
    "SCREW MANUAL SCRIPTING I'M JUST GONNA USE NUMPY"
   ]
  },
  {
   "cell_type": "code",
   "execution_count": 3,
   "metadata": {},
   "outputs": [
    {
     "data": {
      "text/plain": [
       "('EEREHWAODQMVLX', 'SLAYTHEHYDRA')"
      ]
     },
     "execution_count": 3,
     "metadata": {},
     "output_type": "execute_result"
    }
   ],
   "source": [
    "import numpy as np\n",
    "from numpy.linalg import det, inv\n",
    "\n",
    "def mod_inv(mat):\n",
    "    d = det(A)\n",
    "    e = ext_gcd(26, round(d))[1]\n",
    "    return e*d*inv(mat) % 26\n",
    "\n",
    "# Testing: WORKED\n",
    "# mod_inv(np.array([[3, 2], [1, 7]]))\n",
    "\n",
    "# Encoding into proper form\n",
    "def encode(msg):\n",
    "    msg = [ord(c)-0x41 for c in msg]\n",
    "    return [np.array([msg[2*i], msg[2*i+1]]).reshape(2, 1) for i in range(len(msg)//2)]\n",
    "    \n",
    "\n",
    "# Enc/Dec goes through same process. Only diff is the key (A enc) (X dec)\n",
    "def Hill(msg, mat):\n",
    "    return ''.join([chr(int(c) % 26 + 0x41) for c in (mat@encode(msg)).flatten()])\n",
    "\n",
    "def demo():\n",
    "    A = np.array([[3, 2], [1, 7]])\n",
    "    X = mod_inv(A)\n",
    "    msg = 'YOUHAVESAVEDUSALLZ'\n",
    "    cipher = Hill(msg, A)\n",
    "\n",
    "    # Testing with example given in slide\n",
    "    Hill(cipher, X), Hill(msg, A)\n",
    "\n",
    "# 2.10.2 Sagecell exercise\n",
    "A = np.array([[3, -1], [2, 5]])\n",
    "X = mod_inv(A)\n",
    "Hill('GOTOLAKELERNAP', A), Hill('RNCQYVFRRLZI', X)"
   ]
  },
  {
   "attachments": {},
   "cell_type": "markdown",
   "metadata": {},
   "source": [
    "# Lecture Notes\n",
    "\n",
    "## Polygraphic Ciphers\n",
    "\n",
    "In particular, digraphic still substitutions, but we replace 2 letters at a time\n",
    "- Hill\n",
    "- Playfair"
   ]
  },
  {
   "cell_type": "code",
   "execution_count": 25,
   "metadata": {},
   "outputs": [
    {
     "data": {
      "text/plain": [
       "(1,\n",
       " -5,\n",
       " matrix([[ 2., -3.],\n",
       "         [-1.,  4.]]),\n",
       " matrix([[16., 15.],\n",
       "         [ 5.,  6.]]),\n",
       " matrix([[17., 13.],\n",
       "         [ 5.,  8.]]))"
      ]
     },
     "execution_count": 25,
     "metadata": {},
     "output_type": "execute_result"
    }
   ],
   "source": [
    "M = np.matrix(([4, 3], [1, 2]))\n",
    "d = round(det(M))\n",
    "e, _, g = ext_gcd(d, 26)\n",
    "X = e*d*inv(M) % 26\n",
    "\n",
    "g, e, d*inv(M), X, A@X % 26"
   ]
  },
  {
   "cell_type": "code",
   "execution_count": 63,
   "metadata": {},
   "outputs": [
    {
     "data": {
      "text/plain": [
       "('AREA',\n",
       " matrix([[4, 3],\n",
       "         [1, 2]]),\n",
       " '',\n",
       " [array([[ 0],\n",
       "         [17]]),\n",
       "  array([[4],\n",
       "         [0]])],\n",
       " '',\n",
       " matrix([[51, 34],\n",
       "         [16,  4]]),\n",
       " '',\n",
       " [matrix([[90, 73, 81, 69]], dtype=int32)])"
      ]
     },
     "execution_count": 63,
     "metadata": {},
     "output_type": "execute_result"
    }
   ],
   "source": [
    "message = 'AREA'\n",
    "encoded = encode(message)\n",
    "\n",
    "message, M, \"\",  encoded , \"\", M@encoded, \"\", [(M@encoded % 26 + 0x41).flatten()]#, ''.join([chr(0x41 + c) for c in (M@encoded % 26).flatten()]) #, Hill(message, M)"
   ]
  },
  {
   "cell_type": "code",
   "execution_count": 82,
   "metadata": {},
   "outputs": [
    {
     "name": "stdout",
     "output_type": "stream",
     "text": [
      "[[16. 15.]\n",
      " [ 5.  6.]]\n",
      "\n",
      "[[[ 2]\n",
      "  [17]]\n",
      "\n",
      " [[25]\n",
      "  [23]]]\n",
      "\n",
      "[[287. 112.]\n",
      " [745. 263.]]\n",
      "\n",
      "[[ 1.  8.]\n",
      " [17.  3.]]\n",
      "\n",
      "[matrix([[ 1.,  8., 17.,  3.]])]\n"
     ]
    }
   ],
   "source": [
    "ciphertext = 'CRZX'\n",
    "\n",
    "print(X)\n",
    "print()\n",
    "\n",
    "encoded = np.array(encode(ciphertext)) \n",
    "print(encoded)\n",
    "print()\n",
    "print(X @ encoded)\n",
    "print()\n",
    "print(X @ encoded % 26)\n",
    "\n",
    "print()\n",
    "print([(X @ encoded % 26).flatten()])"
   ]
  },
  {
   "attachments": {},
   "cell_type": "markdown",
   "metadata": {},
   "source": [
    "### Playfair practice\n",
    "\n",
    "Use FAJITAS as key to generate the table:\n",
    "\n",
    "```\n",
    "FAITS\n",
    "BCDEG\n",
    "HKLMN\n",
    "OPQRU\n",
    "VQXYZ\n",
    "```\n",
    "\n",
    "Encode \"Little Fluffy\" into pairs\n",
    "```\n",
    "LI TT LE FL UF FY\n",
    "LI TX TL EF LU FF Y\n",
    "LI TX TL EF LU FX FY\n",
    "```\n",
    "\n",
    "Encrypt it now\n",
    "```\n",
    "QD IY IM BT NQ IV TV\n",
    "```\n"
   ]
  }
 ],
 "metadata": {
  "kernelspec": {
   "display_name": "Python 3",
   "language": "python",
   "name": "python3"
  },
  "language_info": {
   "codemirror_mode": {
    "name": "ipython",
    "version": 3
   },
   "file_extension": ".py",
   "mimetype": "text/x-python",
   "name": "python",
   "nbconvert_exporter": "python",
   "pygments_lexer": "ipython3",
   "version": "3.10.1 (tags/v3.10.1:2cd268a, Dec  6 2021, 19:10:37) [MSC v.1929 64 bit (AMD64)]"
  },
  "orig_nbformat": 4,
  "vscode": {
   "interpreter": {
    "hash": "40430081c420884bc0c6cacdd19468c594457515a272ed1024804e3b83ddb8db"
   }
  }
 },
 "nbformat": 4,
 "nbformat_minor": 2
}
