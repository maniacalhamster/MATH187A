{
 "cells": [
  {
   "attachments": {},
   "cell_type": "markdown",
   "metadata": {},
   "source": [
    "# Modern Cryptography\n",
    "\n",
    "- Assumes Alice & Bob have a secure way to share key\n",
    "- Robustness against chosen-plaintext attacks\n",
    "\n",
    "public-key cryptography\n",
    "- public info: encryption key \n",
    "- private info: decryption key\n",
    "\n",
    "> Relies on ONE-WAY FUNCTIONS"
   ]
  },
  {
   "attachments": {},
   "cell_type": "markdown",
   "metadata": {},
   "source": [
    "## 4.1 Interlude: Primes\n",
    "\n",
    "> Positive integer, $p \\geq 2$, is *prime* if only postive divisors are [1, p]. Otherwise, *composite*\n",
    "\n",
    "### Exercise 4.1.2\n",
    "\n",
    "\"twin prime conjecture\" states t.e. inf. many \"twin primes\". Examples are (3,5) (5,7) (11,13). \n",
    "\n",
    "> Give 5 more examples (of twin primes):\n",
    "\n",
    "-- See following script block"
   ]
  },
  {
   "cell_type": "code",
   "execution_count": 78,
   "metadata": {},
   "outputs": [],
   "source": [
    "# Sieve of Aritosthenes\n",
    "\"\"\"\n",
    "This was a side project of mine from around a year ago\n",
    "\n",
    "Programming a way to generate a prime list using the \n",
    "sieve of Aritosthenes method\n",
    "\"\"\"\n",
    "\n",
    "def run_sieve(n = 20):\n",
    "    primes = [1]\n",
    "    mults = [1]\n",
    "\n",
    "    for i in range(2,n+1):\n",
    "        if (i not in mults):\n",
    "            primes.append(i)\n",
    "            [mults.append(i*j) for j in range(i, n//i+1)]\n",
    "    \n",
    "    return primes"
   ]
  },
  {
   "cell_type": "code",
   "execution_count": 79,
   "metadata": {},
   "outputs": [
    {
     "data": {
      "text/plain": [
       "[(3, 5), (5, 7), (11, 13), (17, 19), (29, 31), (41, 43), (59, 61), (71, 73)]"
      ]
     },
     "execution_count": 79,
     "metadata": {},
     "output_type": "execute_result"
    }
   ],
   "source": [
    "k = 100\n",
    "\n",
    "# Verify the sieve works by using this code:\n",
    "# it generates the factor list for each value in the input list\n",
    "# -- if sieve works, should be a list of [1,p] pairs only\n",
    "# [[i for i in range(1, k) if p%i == 0] for p in run_sieve(k)]\n",
    "\n",
    "# Check for twin primes\n",
    "p_list = run_sieve(k)\n",
    "[(a, b) for i in range(len(p_list)-1) if (b := p_list[i+1]) - (a := p_list[i]) == 2]"
   ]
  },
  {
   "attachments": {},
   "cell_type": "markdown",
   "metadata": {},
   "source": [
    "### Exercise 4.1.3\n",
    "\n",
    "Variation of twin prime conjecture: Every even integer can be written as the diff of consecutive primes in inf many ways.\n",
    "\n",
    "EX:\n",
    "\n",
    "$$ 6 = 29-23 = 137-131 = 599-593 $$\n",
    "\n",
    "> Express the integer 10 as diff of 2 consecutive primes in 5 diff ways:"
   ]
  },
  {
   "cell_type": "code",
   "execution_count": 80,
   "metadata": {},
   "outputs": [
    {
     "data": {
      "text/plain": [
       "[(11, 1), (13, 3), (17, 7), (23, 13), (29, 19)]"
      ]
     },
     "execution_count": 80,
     "metadata": {},
     "output_type": "execute_result"
    }
   ],
   "source": [
    "k = 100\n",
    "\n",
    "# Verify the sieve works by using this code:\n",
    "# it generates the factor list for each value in the input list\n",
    "# -- if sieve works, should be a list of [1,p] pairs only\n",
    "# [[i for i in range(1, k) if p%i == 0] for p in run_sieve(k)]\n",
    "\n",
    "# Check for twin primes whose diff = 10\n",
    "p_list = run_sieve(k)\n",
    "[(b, a) for a in p_list for b in p_list if b - a == 10][:5]"
   ]
  },
  {
   "attachments": {},
   "cell_type": "markdown",
   "metadata": {},
   "source": [
    "### Exercise 4.1.4\n",
    "\n",
    "> Explain why, if an integer $n \\geq 2$ is composite, it must be divisible by a prime $p$ such that $p \\leq \\sqrt{n}$. Then use this fact to determine whether or not 701 is prime\n",
    "\n",
    "https://math.stackexchange.com/a/161100\n",
    "\n",
    "- Suppose $n = pq$\n",
    "\n",
    "- both $q>\\sqrt{n}$ and $p>\\sqrt{n}$ cannot be true at the same time \n",
    "  - since that would imply $pq > \\sqrt{n}^2 > n$\n",
    "\n",
    "- Thus t.e. $p \\leq \\sqrt{n}$"
   ]
  },
  {
   "cell_type": "code",
   "execution_count": 81,
   "metadata": {},
   "outputs": [
    {
     "data": {
      "text/plain": [
       "[False, False, True, True]"
      ]
     },
     "execution_count": 81,
     "metadata": {},
     "output_type": "execute_result"
    }
   ],
   "source": [
    "def is_prime(n):\n",
    "    return not any([n%i == 0 for i in range(2, int(n**.5)+1)])\n",
    "\n",
    "[is_prime(a) for a in [9, 10, 11, 701]]"
   ]
  },
  {
   "attachments": {},
   "cell_type": "markdown",
   "metadata": {},
   "source": [
    "## Ubiquity of Primes\n",
    "\n",
    "Every positive integer $n \\geq 2$ can be written (uniquely) as a product of primes (aka *prime factorization*)"
   ]
  },
  {
   "attachments": {},
   "cell_type": "markdown",
   "metadata": {},
   "source": [
    "## Fundamental Theorem of Arithmetic 4.1.5\n",
    "\n",
    "Any positive integer $n \\geq 2$ has a unique prime factorization. \n",
    "\n",
    "I.e. t.e. expression\n",
    "\n",
    "$$ n = p_1^{\\epsilon_1} \\dots p_1^{\\epsilon_1}$$\n",
    "\n",
    "- $p_1,...p_r$ are primes\n",
    "- $\\epsilon_1...\\epsilon_r$ are positive integers\n",
    "\n",
    "Expression is unique up to reordering the indices"
   ]
  },
  {
   "attachments": {},
   "cell_type": "markdown",
   "metadata": {},
   "source": [
    "### Exercise 4.1.6\n",
    "\n",
    "> Find the prime factorization of 1231 and of 1232"
   ]
  },
  {
   "cell_type": "code",
   "execution_count": 121,
   "metadata": {},
   "outputs": [
    {
     "data": {
      "text/plain": [
       "[[1, 1231], [1, 2, 2, 2, 2, 7, 11]]"
      ]
     },
     "execution_count": 121,
     "metadata": {},
     "output_type": "execute_result"
    }
   ],
   "source": [
    "class continue_outer(Exception):\n",
    "    pass\n",
    "\n",
    "def get_prime_factorization(n):\n",
    "    sqrt_n = int(n**.5) + 1\n",
    "    primes = run_sieve(sqrt_n)\n",
    "\n",
    "    primelist = []\n",
    "    while (n != 1):\n",
    "        try:\n",
    "            for k in primes[1:]:\n",
    "                if n%k==0:\n",
    "                    primelist.append(k)\n",
    "                    n //= k\n",
    "                    raise continue_outer\n",
    "        except continue_outer:\n",
    "            continue\n",
    "        primelist.append(n)\n",
    "        n //= n\n",
    "    return [1] + primelist\n",
    "\n",
    "[get_prime_factorization(i) for i in [1231, 1232]]"
   ]
  },
  {
   "attachments": {},
   "cell_type": "markdown",
   "metadata": {},
   "source": [
    "### Exercise 4.1.7\n",
    "\n",
    "> A) Find all prime factors of 50!\n",
    "> \n",
    "> B) Find the prime factorization of 10!\n",
    "> \n",
    "> C) Find the prime factorization of $11!/2^8$\n",
    "\n",
    "$$ \n",
    "2 * 3 * 2^2 * 5 * 2*3 * 7 * 2^3 * 3^2 * 2*5 * 11 / 2^8 \\\\\n",
    "3 * 5 * 3 * 7 * 3^2 * 5 * 11\n",
    "$$"
   ]
  },
  {
   "cell_type": "code",
   "execution_count": 147,
   "metadata": {},
   "outputs": [
    {
     "data": {
      "text/plain": [
       "{'A': [2,\n",
       "  3,\n",
       "  2,\n",
       "  2,\n",
       "  5,\n",
       "  2,\n",
       "  3,\n",
       "  7,\n",
       "  2,\n",
       "  2,\n",
       "  2,\n",
       "  3,\n",
       "  3,\n",
       "  2,\n",
       "  5,\n",
       "  11,\n",
       "  2,\n",
       "  2,\n",
       "  3,\n",
       "  13,\n",
       "  2,\n",
       "  7,\n",
       "  3,\n",
       "  5,\n",
       "  2,\n",
       "  2,\n",
       "  2,\n",
       "  2,\n",
       "  17,\n",
       "  2,\n",
       "  3,\n",
       "  3,\n",
       "  19,\n",
       "  2,\n",
       "  2,\n",
       "  5,\n",
       "  3,\n",
       "  7,\n",
       "  2,\n",
       "  11,\n",
       "  23,\n",
       "  2,\n",
       "  2,\n",
       "  2,\n",
       "  3,\n",
       "  5,\n",
       "  5,\n",
       "  2,\n",
       "  13,\n",
       "  3,\n",
       "  3,\n",
       "  3,\n",
       "  2,\n",
       "  2,\n",
       "  7,\n",
       "  29,\n",
       "  2,\n",
       "  3,\n",
       "  5,\n",
       "  31,\n",
       "  2,\n",
       "  2,\n",
       "  2,\n",
       "  2,\n",
       "  2,\n",
       "  3,\n",
       "  11,\n",
       "  2,\n",
       "  17,\n",
       "  5,\n",
       "  7,\n",
       "  2,\n",
       "  2,\n",
       "  3,\n",
       "  3,\n",
       "  37,\n",
       "  2,\n",
       "  19,\n",
       "  3,\n",
       "  13,\n",
       "  2,\n",
       "  2,\n",
       "  2,\n",
       "  5,\n",
       "  41,\n",
       "  2,\n",
       "  3,\n",
       "  7,\n",
       "  43,\n",
       "  2,\n",
       "  2,\n",
       "  11,\n",
       "  3,\n",
       "  3,\n",
       "  5,\n",
       "  2,\n",
       "  23,\n",
       "  47,\n",
       "  2,\n",
       "  2,\n",
       "  2,\n",
       "  2,\n",
       "  3,\n",
       "  7,\n",
       "  7,\n",
       "  2,\n",
       "  5,\n",
       "  5],\n",
       " 'B': [2, 3, 2, 2, 5, 2, 3, 7, 2, 2, 2, 3, 3]}"
      ]
     },
     "execution_count": 147,
     "metadata": {},
     "output_type": "execute_result"
    }
   ],
   "source": [
    "from functools import reduce\n",
    "\n",
    "A_ans = []\n",
    "for i in range(1, 51):\n",
    "    A_ans += get_prime_factorization(i)[1:]\n",
    "\n",
    "\n",
    "B_ans = []\n",
    "for i in range(1, 10):\n",
    "    B_ans += get_prime_factorization(i)[1:]\n",
    "\n",
    "C_ans = []\n",
    "# for i in range(1, reduce(lambda a,b: a*b, range(1, 11), 1)//8):\n",
    "    # C_ans += get_prime_factorization(i)[1:]\n",
    "\n",
    "# Verifying\n",
    "# reduce(lambda a,b: a*b, A_ans, 1) == reduce(lambda a,b: a*b, range(1,51), 1)\n",
    "# reduce(lambda a,b: a*b, B_ans, 1) == reduce(lambda a,b: a*b, range(1,10), 1)\n",
    "\n",
    "{\n",
    "    'A': A_ans,\n",
    "    'B': B_ans\n",
    "}"
   ]
  },
  {
   "attachments": {},
   "cell_type": "markdown",
   "metadata": {},
   "source": [
    "## Euclid's Lemma 4.1.8\n",
    "\n",
    "Suppose a and b are integers and that d is a divisor of ab such that gcd(a,d) = 1. \n",
    "\n",
    "Then d is a divisor of b\n",
    "\n",
    "> *Proof*\n",
    "> \n",
    "> By Bezout's thm, t.e. x and y s.t. 1 = gcd(a,d) = ax + dy\n",
    "> \n",
    "> b = abx + bdy\n",
    "> \n",
    "> - given that d divides ab ==> d also divides abx\n",
    "> - d divides bdy since it is a multuple of d\n",
    "> \n",
    "> Thus d divides the sum of abx+bdy = b"
   ]
  },
  {
   "attachments": {},
   "cell_type": "markdown",
   "metadata": {},
   "source": [
    "### Exercise 4.1.9\n",
    "\n",
    "> Explain why lemma 4.1.8 implies the following:\n",
    ">  \n",
    "> If a and b are integers, p is a prime, and p divides ab\n",
    ">  \n",
    "> Then either \n",
    "> - p divides a\n",
    "> - p divides b\n",
    "\n",
    "If p is prime, then either\n",
    "- gcd(p, a) = 1 \n",
    "- gcd(p, b) = 1\n",
    "\n",
    "leaving proof of this till later due to lack of time"
   ]
  },
  {
   "attachments": {},
   "cell_type": "markdown",
   "metadata": {},
   "source": [
    "-- Lack of time to do Proof Exercises 4.1.10 and 4.1.11"
   ]
  },
  {
   "attachments": {},
   "cell_type": "markdown",
   "metadata": {},
   "source": [
    "## Scarcity of Primes\n",
    "\n",
    "Literal Sense\n",
    "- As a proportion of all integers, very few integers end up being prime!\n",
    "\n",
    "Difficulty of Factoring Sense\n",
    "- prime factorizations are extremely difficult to actually calculate, even for moderately large numbers"
   ]
  },
  {
   "attachments": {},
   "cell_type": "markdown",
   "metadata": {},
   "source": [
    "## One-Way function revisited\n",
    "\n",
    "$$ u(p, q) = pq $$\n",
    "\n",
    "- p,q are sufficiently large prime numbers\n",
    "\n",
    "Easy to compute product, Hard to invert function.\n",
    "- basis for RSA"
   ]
  },
  {
   "attachments": {},
   "cell_type": "markdown",
   "metadata": {},
   "source": [
    "# 4.2 Euler's Phi Function\n",
    "\n",
    "> Defn 4.2.1: For a positive integer, n, let $\\phi(n)$ denote the number of integers $r$ with $0 \\leq r < n$ and gcd(n, r) = 1. The function $ n \\rightarrow \\phi(n) $ is called *Euler's phi function* (or *Euler's totient function*).\n",
    "\n",
    "Ex: When counting num of affine encryption using English alphabet, finding the number of inversible $a$ values:\n",
    "\n",
    "$$ \\phi(26) = 12 $$"
   ]
  },
  {
   "attachments": {},
   "cell_type": "markdown",
   "metadata": {},
   "source": [
    "### Exercise 4.2.2\n",
    "\n",
    "> Compute $\\phi(12), \\phi(13), \\phi(14), \\phi(15)$"
   ]
  },
  {
   "cell_type": "code",
   "execution_count": 157,
   "metadata": {},
   "outputs": [
    {
     "name": "stdout",
     "output_type": "stream",
     "text": [
      "phi(12)=4\n",
      "phi(13)=12\n",
      "phi(14)=6\n",
      "phi(15)=8\n"
     ]
    },
    {
     "data": {
      "text/plain": [
       "[None, None, None, None]"
      ]
     },
     "execution_count": 157,
     "metadata": {},
     "output_type": "execute_result"
    }
   ],
   "source": [
    "def gcd(n, r):\n",
    "    if r==0:\n",
    "        return n\n",
    "    return gcd (r, n%r)\n",
    "\n",
    "def phi(n):\n",
    "    return len([i for i in range(1, n) if gcd(n, i) == 1])\n",
    "\n",
    "[print(f'phi({n})={phi(n)}') for n in [12, 13, 14, 15]]"
   ]
  },
  {
   "attachments": {},
   "cell_type": "markdown",
   "metadata": {},
   "source": [
    "### Exercise 4.2.3 \n",
    "\n",
    "> Explain why, in a languge that uses an alphabet with $n$ letters, the number of dstinct affine encryption functions is $n\\phi(n)$\n",
    "\n",
    "Affine encryption functions are made distinct by their values of (a, b). Valid values of a must be inversible under modulo n (for an alphabet of n letters). Valid values of b fall within the range of [0, n-1].\n",
    "\n",
    "The number of unique pairs (a,b) can be calculated by multiplying the magnitude of each set. $||a|| = \\phi(n)$, $||b|| = n$."
   ]
  },
  {
   "attachments": {},
   "cell_type": "markdown",
   "metadata": {},
   "source": [
    "### Important Exercise 4.2.4\n",
    "\n",
    "> Suppose p is prime.\n",
    "> \n",
    "> a) Explain why $\\phi(p) = p - 1$\n",
    "> \n",
    "> b) Explain why $\\phi(p^e) = p^e - p^{e - 1} = p^{e - 1}(p - 1)$ for any $e \\geq 1$\n",
    "\n",
    "A) If p is prime, then the only factors of p are (1, p). For all integers r with $0 \\geq r < p$, gcd(p, r) = 1 since there are NO common factors / common divisors for any values (1..p-1). Thus the value of $\\phi(p) = p-1$\n",
    "\n",
    "B) Struggled with this. Found a post on class Zulip that addressed this. Shoutout to Theodore Ching\n",
    "\n",
    "$$\n",
    "\\begin{align*}\n",
    "\\phi(p^e) &= |n \\leq p^e:\\{gcd(n, p^e) = 1\\}| \\\\\n",
    "          &= |n \\leq p^e| - |n \\leq p^e:\\{gcd(n, p^e) \\neq 1\\}| \\\\\n",
    "          &= |\\{1,2,\\dots,p^e\\}| - |n \\leq p^e: \\text{multiples of $p^e$}| \\\\\n",
    "          &= |\\{1,2,\\dots,p^e\\}| - |\\{kp | 1 \\leq k \\leq p^{e-1}\\}| \\\\\n",
    "          &= p^e - p^{e - 1} \\\\\n",
    "          &= p^{e - 1}(p - 1) \\\\\n",
    "\\end{align*}\n",
    "$$"
   ]
  },
  {
   "attachments": {},
   "cell_type": "markdown",
   "metadata": {},
   "source": [
    "## 4.2.5 Multiplicity of Euler's Phi Functions \n",
    "\n",
    "If gcd(a,b) = 1\n",
    "\n",
    "Then $\\phi(ab) = \\phi(a)\\phi(b)$"
   ]
  },
  {
   "attachments": {},
   "cell_type": "markdown",
   "metadata": {},
   "source": [
    "### Proof Exercise 4.2.6\n",
    "\n",
    "> Fill in details of the proof sketch for Multiplicity of Euler's Phi functions. In particular, explain how the Affine Cipher Lemma plays into the ideas discussed in the second paragraph of the sketch above.\n",
    "\n",
    "-- skipping for purpose of time"
   ]
  },
  {
   "attachments": {},
   "cell_type": "markdown",
   "metadata": {},
   "source": [
    "## 4.2.7 Formula for Euler's Phi Function \n",
    "\n",
    "Suppose $n = p_1^{e_1} \\dots p_r^{e_r}$ is the prime factorization of n. Then\n",
    "\n",
    "$$ \\phi(n) = p_1^{e_1-1} (p_1 - 1) \\dots p_r^{e_r -1} (p_r - 1) $$"
   ]
  },
  {
   "attachments": {},
   "cell_type": "markdown",
   "metadata": {},
   "source": [
    "### Proof Exercise 4.2.8\n",
    "\n",
    "> Prove the formula for Eurler's phi function using the multiplicativity property and the calculation of $\\phi(p^e)$\n",
    "\n",
    "$$ \\phi(n) = p_1^{e_1-1} (p_1 - 1) \\dots p_r^{e_r -1} (p_r - 1) $$\n",
    "\n",
    "Since gcd($p_1^{e_1}$, $p_r^{e_r}$) = 1 for all prime factors of $n$ (since they are all prime)\n",
    "\n",
    "Then $\\phi(n) = \\phi(p_1^{e_1})\\dots\\phi(p_r^{e_r})$\n",
    "\n",
    "Which $= p_1^{e_1-1}(p_1 - 1)\\dots p_r^{e_r}(p_r - 1)$"
   ]
  },
  {
   "attachments": {},
   "cell_type": "markdown",
   "metadata": {},
   "source": [
    "### Exercise 4.2.9 \n",
    "\n",
    "> Use the formula for Euler's phi function to calculate $\\phi(n)$ for each of the following values of n\n",
    "> \n",
    "> a) n = 20 = 2^2 * 5\n",
    ">\n",
    "> b) n = 25 = 5^2\n",
    ">\n",
    "> c) n = 30 = 2 * 3 * 5\n",
    ">\n",
    "> d) n = 35 = 5 * 7\n",
    ">\n",
    "> e) n = 40 = 2^3 * 5\n"
   ]
  },
  {
   "cell_type": "code",
   "execution_count": 181,
   "metadata": {},
   "outputs": [
    {
     "data": {
      "text/plain": [
       "[8, 20, 8, 24, 16]"
      ]
     },
     "execution_count": 181,
     "metadata": {},
     "output_type": "execute_result"
    }
   ],
   "source": [
    "from collections import Counter\n",
    "\n",
    "def phi_e(n):\n",
    "    return reduce(lambda a,b: a*b, [p**(e-1) * (p-1) for p,e in Counter(get_prime_factorization(n)[1:]).items()], 1)\n",
    "\n",
    "# Test with the other phi function defined\n",
    "# phi_e(20) == phi(20), phi_e(25) == phi(25), phi_e(30) == phi(30), phi_e(35) == phi(35), phi_e(40) == phi(40)\n",
    "\n",
    "[phi_e(v) for v in [20, 25, 30, 35, 40]]"
   ]
  },
  {
   "attachments": {},
   "cell_type": "markdown",
   "metadata": {},
   "source": [
    "### Exercise 4.2.10 \n",
    "\n",
    "> Explain why $\\phi(n)$ is always even when $n \\geq 3$\n",
    "\n",
    "Note how Euler's Phi Function involves multiplying $(p_r - 1)$\n",
    "\n",
    "We know that the values of p are prime. All prime numbers above 2 are ODD since any even numbers would be composite with respect to 2.\n",
    "\n",
    "This means that the phi function would always end up multiplying by some even number (odd - 1) = even.\n",
    "\n",
    "Having an even number as multiplicand or multiplier ANYWHERE will ensure the end result is an even number\n",
    "\n",
    "$$\n",
    "a = 2n.\\\\\n",
    "ka = 2kn = 2(kn)\n",
    "$$"
   ]
  },
  {
   "attachments": {},
   "cell_type": "markdown",
   "metadata": {},
   "source": [
    "### Exercise 4.2.11\n",
    "\n",
    "> Explain why we can also write \n",
    "\n",
    "$$\n",
    "\\phi(n) = n \\prod_{p|n} (1 - \\frac{1}{p})\n",
    "$$\n",
    "\n",
    "$$\n",
    "\\begin{align*}\n",
    "\\phi(n) &= p_1^{e_1-1} (p_1 - 1) \\dots p_r^{e_r -1} (p_r - 1)\\\\\n",
    "\\phi(n) &= p_1^{e_1-1} (p_1 - 1) \\dots p_r^{e_r -1} (p_r - 1)\n",
    "\\end{align*}\n",
    "$$\n",
    "\n",
    "-- out of time"
   ]
  },
  {
   "attachments": {},
   "cell_type": "markdown",
   "metadata": {},
   "source": [
    "## 4.2.13 Euler's Theorem\n",
    "\n",
    "Suppose n is a positive integer and a is another integer with gcd(a, n) = 1\n",
    "\n",
    "Then\n",
    "\n",
    "$$ a^{\\phi(n)} \\equiv 1 \\text{\\qquad (mod n)} $$"
   ]
  },
  {
   "attachments": {},
   "cell_type": "markdown",
   "metadata": {},
   "source": [
    "*Proof Sketch*\n",
    "\n",
    "Let $r_1, \\dots, r_{\\phi(n)} $ be integers 0 and n-1 which are relatively prime to n.\n",
    "\n",
    "Since gcd(a, n) = 1, \n",
    "- $ar_1, \\dots, ar_{\\phi(n)}$ represent the same congruence classes\n",
    "\n",
    "Communicative multiplication of integers:\n",
    "\n",
    "$$\n",
    "\\begin{align*}\n",
    "r_1 \\dots r_{\\phi(n)}   & \\equiv (ar_1) \\dots (ar_{\\phi(n)}) \\\\\n",
    "                        & = a^{\\phi(n)}r_1 \\dots r_{\\phi(n)}\n",
    "\\end{align*}\n",
    "$$\n",
    "\n",
    "Can now multiply mod n by $r_{\\phi(n)}^{-1}$, and $r_{\\phi(n)-1}^{-1}$, and so forth, all the way down to $r_1^{-1}$ to conclude\n",
    "\n",
    "$$\n",
    "1 \\equiv a^{\\phi(n)} \\text{\\qquad mod n}\n",
    "$$\n",
    "\n",
    "### Proof Exercise 4.2.14\n",
    "\n",
    "> Fill in the details in the above proof sketch"
   ]
  },
  {
   "attachments": {},
   "cell_type": "markdown",
   "metadata": {},
   "source": [
    "Examples\n",
    "\n",
    "> Note that 20 = 2^2 * 5. So $\\phi(20) = 2(1) * 1(4) = 8$\n",
    "\n",
    "For any a relatively prime to 20, $a^{\\phi(20)} = a^8 \\equiv 1$ mod 20\n",
    "\n",
    "Take a = 3. Can check if gcd(3,20) = 1:\n",
    "\n",
    "$$\n",
    "\\begin{align*}\n",
    "3^2 &= 9\\\\\n",
    "3^4 &= (3^2)^2 = 9^2 = 81 \\equiv 1 \\text{\\qquad (mod 20)}\\\\\n",
    "3^8 &= (3^4)^2 = 1^2 = 1 \\text{\\qquad (mod 20)}\n",
    "\\end{align*}\n",
    "$$\n",
    "\n",
    "---\n",
    "\n",
    "Can also use this thm to compute large powers of numbers\n",
    "\n",
    "$7^{20232023}$ mod 20?\n",
    "\n",
    "> Note that 20232000 is divisible by 8\n",
    "\n",
    "$$ 20232023 = 2023200 + 23 \\equiv 23 \\equiv 7 \\text{\\qquad (mod 8)} $$\n",
    "\n",
    "$$7^{20232023} = 7^{8q+7} = (7^8)^q7^7 \\equiv q^q7^7 = 7^7 \\text{\\qquad (mod 20)}$$\n",
    "\n",
    "Now to compute $7^7$ mod 20:\n",
    "\n",
    "$$\n",
    "\\begin{align*}\n",
    "7^2 &= 49 \\equiv 9 \\text{\\qquad (mod 20)}\\\\\n",
    "7^4 &= (7^2)^2 \\equiv 9^2 = 81 \\equiv 1 \\text{\\qquad (mod 20)}\\\\\n",
    "7^7 &= (7^4)\\cdot 7^2 \\cdot 7= 1 \\cdot 9 \\cdot 7 = 63 \\equiv 3 \\text{\\qquad (mod 20)}\n",
    "\\end{align*}\n",
    "$$\n",
    "\n",
    "Thus $7^{20232023}$ mod 20 = 3\n"
   ]
  },
  {
   "attachments": {},
   "cell_type": "markdown",
   "metadata": {},
   "source": [
    "### Exercise 4.2.15\n",
    "\n",
    "> Show that 51 divides $10^{32n+9} - 7$ for any integer $n \\geq 0$\n",
    "\n",
    "- 51 = 3*17\n",
    "\n",
    "-- lack of time to work this out"
   ]
  },
  {
   "attachments": {},
   "cell_type": "markdown",
   "metadata": {},
   "source": [
    "### Exercise 4.2.16\n",
    "\n",
    "> Find the units digit of $3^{100}$\n",
    "\n",
    "- Units digit AKA mod 10. \n",
    "- 10 = 2*5\n",
    "- gcd(3, 10) = 1\n",
    "\n",
    "$\\phi(10) = 1(1) * 1(4) = 4$\n",
    "\n",
    "$ 3^{100} = (3^4)^25 \\equiv 1^25 = 1 $ (mod 10)"
   ]
  },
  {
   "cell_type": "code",
   "execution_count": 185,
   "metadata": {},
   "outputs": [
    {
     "data": {
      "text/plain": [
       "1"
      ]
     },
     "execution_count": 185,
     "metadata": {},
     "output_type": "execute_result"
    }
   ],
   "source": [
    "# Verifying\n",
    "3**100 % 10"
   ]
  },
  {
   "attachments": {},
   "cell_type": "markdown",
   "metadata": {},
   "source": [
    "### Exercise 4.2.17\n",
    "\n",
    "> Fix prime number p. There are two versions of \"Fermat's little theorem\"\n",
    ">\n",
    "> a) If a is in integer that is NOT divisible by p, then $a^{p-1} \\equiv 1$ (mod p)\n",
    "> \n",
    "> b) For any integer a, we have $a^p \\equiv a$ (mod p)\n",
    "> \n",
    "> Explain how to derive both of these statements from Euler's theorem. You may find it helpful to first derive statement (a), then use that to derive statement (b).\n",
    "\n",
    "-- out of time to work this out"
   ]
  }
 ],
 "metadata": {
  "kernelspec": {
   "display_name": "Python 3",
   "language": "python",
   "name": "python3"
  },
  "language_info": {
   "codemirror_mode": {
    "name": "ipython",
    "version": 3
   },
   "file_extension": ".py",
   "mimetype": "text/x-python",
   "name": "python",
   "nbconvert_exporter": "python",
   "pygments_lexer": "ipython3",
   "version": "3.10.1"
  },
  "orig_nbformat": 4,
  "vscode": {
   "interpreter": {
    "hash": "40430081c420884bc0c6cacdd19468c594457515a272ed1024804e3b83ddb8db"
   }
  }
 },
 "nbformat": 4,
 "nbformat_minor": 2
}
