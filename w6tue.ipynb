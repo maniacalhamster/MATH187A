{
 "cells": [
  {
   "attachments": {},
   "cell_type": "markdown",
   "metadata": {},
   "source": [
    "I did not do reading notes so this will only be Wednesday Lecture notes"
   ]
  },
  {
   "attachments": {},
   "cell_type": "markdown",
   "metadata": {},
   "source": [
    "## Index of Coincidence\n",
    "\n",
    "IC = 26 * [drawing 2 of the same letter if choosing letters at random]\n",
    "\n",
    "$$\n",
    "IC = 26 \\sum_\\alpha \\frac{N_\\alpha (N_\\alpha - 1)}{N(N-1)}\n",
    "$$\n",
    "- $N_\\alpha \\ N$ is draw an alpha\n",
    "- $(N_\\alpha - 1) \\ (N - 1)$ is draw another alpha\n",
    "\n",
    "$$\n",
    "\\approx 26 \\sum_\\alpha P_\\alpha^2\n",
    "$$"
   ]
  },
  {
   "attachments": {},
   "cell_type": "markdown",
   "metadata": {},
   "source": [
    "For English plaintext IC is usually:\n",
    "- ~1.75\n",
    "- [1.5, 2] (\"almost always\", not necessarily a concrete confidence interval)\n",
    "\n",
    "> Drawing from the observation that even smaller samples fall within range, prof says confidence level is most likely within upper 90%"
   ]
  },
  {
   "attachments": {},
   "cell_type": "markdown",
   "metadata": {},
   "source": [
    "The 26* is just to normalize\n",
    "\n",
    "Otherwise,,,\n",
    "\n",
    "For N>>0, moves IC into range [1, 26] instead of [1/26, 1]"
   ]
  },
  {
   "attachments": {},
   "cell_type": "markdown",
   "metadata": {},
   "source": [
    "IC stays roughly the same if we apply\n",
    "- Transposition cipher \n",
    "    > Just shuffles the letters around. The value is calculated by combining the prob for all the letters. The position of letter does not affect the overall value\n",
    "- Simple substitution\n",
    "    > Swaps letter frequencies around. The value is calculated by combining the prob for all letters (regardless of letter). The individual prob of each letter does not affect the overall value."
   ]
  },
  {
   "attachments": {},
   "cell_type": "markdown",
   "metadata": {},
   "source": [
    "## Breaking Vignere \n",
    "\n",
    "- Guess period (or Kasiski exam)"
   ]
  },
  {
   "cell_type": "code",
   "execution_count": 21,
   "metadata": {},
   "outputs": [],
   "source": [
    "# Courtesy of https://github.com/nytr0gen/kasiski/blob/master/kasiski.py\n",
    "import re, math\n",
    "\n",
    "def normalize(s):\n",
    "    s = s.strip().upper()\n",
    "    s = re.sub(r'[^A-Z]+', '', s)\n",
    "    return s\n",
    "\n",
    "def kasiski(s, min_num = 3):\n",
    "    s = normalize(s)\n",
    "    out = ''\n",
    "\n",
    "    matches = []\n",
    "    found = {}\n",
    "    for k in range(min_num, len(s)):\n",
    "        found[k] = {}\n",
    "        shouldbreak = True\n",
    "        for i in range(0, len(s) - k):\n",
    "            v = s[i:i+k]\n",
    "            if v not in found[k]:\n",
    "                found[k][v] = 1\n",
    "            else:\n",
    "                found[k][v] += 1\n",
    "                shouldbreak = False\n",
    "\n",
    "        if shouldbreak:\n",
    "            break\n",
    "\n",
    "        for v in found[k]:\n",
    "            if found[k][v] > 2:\n",
    "                matches.append(v)\n",
    "\n",
    "    out += \"Length  Count  Word        Factor  Location (distance)\\n\"\n",
    "    out += \"======  =====  ==========  ======  ===================\\n\"\n",
    "    keylens = {}\n",
    "    for v in matches:\n",
    "        k = len(v)\n",
    "        p = []\n",
    "        for i in range(len(s)):\n",
    "            if s[i:i+k] == v:\n",
    "                p.append(i)\n",
    "\n",
    "        # assuming len(p) > 1\n",
    "        factor = p[1] - p[0]\n",
    "        for i in range(2, len(p)):\n",
    "            factor = math.gcd(factor, p[i] - p[i - 1])\n",
    "\n",
    "        locations = \"\"\n",
    "        for i in range(len(p)):\n",
    "            locations += \"%d \" % p[i]\n",
    "            if i > 0:\n",
    "                locations += \"(%d) \" % (p[i] - p[i-1])\n",
    "\n",
    "        out += \"%6d  %5d  %10s  %6d  %s\\n\" % (k, found[k][v], v, factor, locations)\n",
    "\n",
    "    return found"
   ]
  },
  {
   "cell_type": "code",
   "execution_count": 22,
   "metadata": {},
   "outputs": [
    {
     "data": {
      "text/plain": [
       "{5: {'KKDKK': 2,\n",
       "  'KDKKE': 2,\n",
       "  'FOEVA': 2,\n",
       "  'OEVAE': 2,\n",
       "  'ZUUJH': 2,\n",
       "  'ZHVJR': 2,\n",
       "  'HVJRS': 2,\n",
       "  'TYHYS': 2,\n",
       "  'YHYSX': 2,\n",
       "  'HYSXE': 2,\n",
       "  'POJHP': 2,\n",
       "  'OJHPZ': 2,\n",
       "  'UFKKE': 2,\n",
       "  'IFZHV': 2,\n",
       "  'ZHZQG': 2,\n",
       "  'EJTZK': 2,\n",
       "  'LNRFX': 2,\n",
       "  'NRFXG': 2,\n",
       "  'RFXGZ': 2,\n",
       "  'FXGZZ': 2,\n",
       "  'XGZZH': 2,\n",
       "  'GZZHV': 2,\n",
       "  'OOEVA': 2,\n",
       "  'TFWHW': 2,\n",
       "  'WJTFW': 2,\n",
       "  'KKECO': 2,\n",
       "  'UPVQE': 2,\n",
       "  'GNUVO': 2,\n",
       "  'LOFUF': 2,\n",
       "  'ESZHZ': 2,\n",
       "  'SYSRQ': 2,\n",
       "  'YSRQD': 2,\n",
       "  'URKKE': 2},\n",
       " 6: {'KKDKKE': 2,\n",
       "  'FOEVAE': 2,\n",
       "  'ZHVJRS': 2,\n",
       "  'TYHYSX': 2,\n",
       "  'YHYSXE': 2,\n",
       "  'POJHPZ': 2,\n",
       "  'LNRFXG': 2,\n",
       "  'NRFXGZ': 2,\n",
       "  'RFXGZZ': 2,\n",
       "  'FXGZZH': 2,\n",
       "  'XGZZHV': 2,\n",
       "  'SYSRQD': 2},\n",
       " 7: {'TYHYSXE': 2, 'LNRFXGZ': 2, 'NRFXGZZ': 2, 'RFXGZZH': 2, 'FXGZZHV': 2},\n",
       " 8: {'LNRFXGZZ': 2, 'NRFXGZZH': 2, 'RFXGZZHV': 2},\n",
       " 9: {'LNRFXGZZH': 2, 'NRFXGZZHV': 2},\n",
       " 10: {'LNRFXGZZHV': 2},\n",
       " 11: {}}"
      ]
     },
     "execution_count": 22,
     "metadata": {},
     "output_type": "execute_result"
    }
   ],
   "source": [
    "cipher = \"\"\"IKGWERTZONXEULTEZWHWXTYHSZKEGQOJNENRUDJGFRNKUISLDZOMKDKWZHVUOSJLFZEJJONQHWVRFEATRYIDIKKDKKEHNAEWOEYFIRMLNIENIFMAJKELXAMHRKKDKKEEUOIVADUNVRNLNEERNKKNJHHWNAUKESXDYLSHGRVQTKGNUFOEVAELOFYRVSESZYVWSLOLCLDGTTCLKWHEZQGGATZQTZKDRUKFUWRQDAJOEWLAQESHIFMLVITTEMPVEDLIEWHAYGILMZUUJHIUGNERTZKLGLTAYHROLTKGCDDONEEWHWELVDVWOTRQDKNIWWTGZHVJRSTGVWHWEAIHGGONXWOLNEXUAFMEKKEFOSRLDQKSRQSOKRVGMJYDVDNSYSFRNSYTYHYSXEDDRJOEUDNVZHRWWARLSHOFTENBESXSUDYSTDNKOOOLCOINKHVUELNEEZHQPOJHPZCICOTSQETDRWUFKKEZUUJHAFJPVUHSVSROAVZOBHEHNIDFOEVAEBTZKYNLLDRIMHIFZHVNILIHVQAFJTYHRWYTNLLDHEJKULAPWRRLNELVEGLSLFHYNOJWSSYCYROKKTFLNZGBZWILOOSVEJBEUQOEXLFFKOUOUVAAJNVOLQYHRNIFMHVUHWGDZEEDOEMHTZKDVDDSXERWPWGCVEULOTZVNGZRZJHLZOJSESQOWWHWSWZWHDKVZWYSZTYDTEUMVQTLNEXDRVKNXDTWYWLQGLUTYHRSSBCHRKCEIHRWZUIQIFMTYHYSXERIRSODFINGZHZQGAMRLPBDKDNDTUNIEJTZKIIDPHXORFHLNRFXGZZHVZIFJONWOYKTYHRLNEPZOMRDSUANKSRWAFGNUDLDNIJOEYOOEVAKZHVBSLKPGHDGTTFWHWJOFUSLUNVVAFJHROTWJTFWACKACDSLROFNALZHVPOGTOIPOJKCFURWITCBALKATKOLNEIEYZKRCLGZZIWHLLORIHSAYTZELQOMGHLDKDKREKIAGHTZKMRJAATAEGPJKSJLNYGRVPEEHRRQCWONKRTZKHRQDGLMIVDWGNRQDVOSIHGSXDZQGZKRVAPGYTLOALOOEVALSYIXDWTEJVINGNZVHWJTYUOMMHKKECOTTKEFGSKKEQUPVQEVZHVKOMYEUROJGNUVOKNOLODZGVVFOFLIIPEVPOJHPZONYLSGVIELOFUFYLSXKLCRWKKRMDNLYGRBIFJIJFRWZIFQSZGDYHNGZFFUTMTAKHLQXETRGFOSVGMWLOIDRWYPVFTSHLVFHSXATWEJHYKKEKCEVWRATGFIAKUVVUEAMNRWHAYFVHTEEWROKZUMVZAKREEJTZKNVGBQGDZYEJYIFQIFZHVGIJKCKLOFUFKKECORBZHWTBVQESZHZWSOGLCVIHKRTHINKDUHCSEHRGMSJEGUOYXEJVENKNZQSWBEEPOFZHJPAFEANLNVUWJKOOKDSOAUQGRSSVKPILVWJOWJLSYSRQDKRAKHSBATKHDGLFYHRWGNUWHWXESHYGTDKKEJOGYWLATEFITZKRFRFLUBVJRSJUROLQCOINEVUFWLNUUMZQGSATLPNKZOIPSAYOLJHLGNUVOGTDZVCGBEIHDLNEKKRWKHVDDKZOEHSGTTYHSDUPVQEPZTYHMGURKKEEODUOEGTEXUEQGNUKADLBLUIWJIEKESZHVGGSXLZQTGTSFQLQNAIPOFOZVGBQZHVWUJLAEGMGYSTUEWVIEJUHOTJIOGZHVDTZILZIFKYTZOLTGRVLLATGVUEVXOLQDLNEDXNVKRKKALHEELGFYKPZALIHVGTZKMFWHKLLLWTWXIEJAEUNXWHWNERWHSTDYDRWHECOSDOSKHNWJTFWHWYOWWWATDSUESZHZQGLNRFXGZZHVJRSYSRQDOUNUHRWJHFZAFEOEHCGALUHVWXIDDGATELQQMOEKVLMSBVUSXURKKEKREVSEJYIEWHSZQLLELKAIWH\"\"\"\n",
    "\n",
    "found = (kasiski(cipher))\n",
    "\n",
    "{l:{k:v for k,v in t.items() if v > 1} for l,t in found.items() if l>4}"
   ]
  },
  {
   "attachments": {},
   "cell_type": "markdown",
   "metadata": {},
   "source": [
    "Ooops, got carried away, we moved on\n",
    "\n",
    "But just to write this down\n",
    "\n",
    "with period --> break cipher into columns of length period\n",
    "\n",
    "Each column is a ceasar cipher"
   ]
  },
  {
   "attachments": {},
   "cell_type": "markdown",
   "metadata": {},
   "source": [
    "## Q1 \n",
    "\n",
    "If IC of cipher is 1.1, which of following ciphers was most likely used to encrypt?\n",
    "- A) Rectangular transposition\n",
    "- B) Affine\n",
    "- C) Vignere\n",
    "- D) Caesar\n",
    "\n",
    "Well A and D can be crossed out since we discussed they would fall within the [1.5 and 2] range.\n",
    "\n",
    "Affine is ALSO simple substitution\n",
    "\n",
    "Vignere I was iffy on\n",
    "- at first thought it was because you're using another body of text (which would hold similar IC) to encrypt\n",
    "- but you're NOT, ur using a KEY. Which is does NOT have an IC in that range. \n",
    "\n",
    "> Asked prof if IC would approach standard range if key was longer. But prof actually says he believes the IC would get closer to 1 instead... hmm. But he did say he had to think carefully about it"
   ]
  },
  {
   "attachments": {},
   "cell_type": "markdown",
   "metadata": {},
   "source": [
    "## Q2\n",
    "\n",
    "Recall alien lang from Quiz 4. \n",
    "\n",
    "3 letter alphabet with plaintext freq of (20%, 20%, 60%)\n",
    "\n",
    "Which would be closest to the expected IC for plaintext in this language?\n",
    "- A) 1\n",
    "- B) 1.3\n",
    "- C) 1.7\n",
    "- D) 2\n",
    "\n",
    "$$\n",
    "\\approx 3 * \\sum_\\alpha p_\\alpha^2\n",
    "\n",
    "$$"
   ]
  },
  {
   "cell_type": "code",
   "execution_count": 25,
   "metadata": {},
   "outputs": [
    {
     "data": {
      "text/plain": [
       "1.32"
      ]
     },
     "execution_count": 25,
     "metadata": {},
     "output_type": "execute_result"
    }
   ],
   "source": [
    "(.2**2 + .2**2 + .6**2) * 3"
   ]
  },
  {
   "attachments": {},
   "cell_type": "markdown",
   "metadata": {},
   "source": [
    "## Q3 \n",
    "\n",
    ">oops forgot to write it down\n",
    "\n",
    "Table of several guesses for period and the calculated IC for each col\n",
    "\n",
    "Chose the col with most amount of values in standard range"
   ]
  }
 ],
 "metadata": {
  "kernelspec": {
   "display_name": "Python 3",
   "language": "python",
   "name": "python3"
  },
  "language_info": {
   "codemirror_mode": {
    "name": "ipython",
    "version": 3
   },
   "file_extension": ".py",
   "mimetype": "text/x-python",
   "name": "python",
   "nbconvert_exporter": "python",
   "pygments_lexer": "ipython3",
   "version": "3.10.1"
  },
  "orig_nbformat": 4,
  "vscode": {
   "interpreter": {
    "hash": "40430081c420884bc0c6cacdd19468c594457515a272ed1024804e3b83ddb8db"
   }
  }
 },
 "nbformat": 4,
 "nbformat_minor": 2
}
