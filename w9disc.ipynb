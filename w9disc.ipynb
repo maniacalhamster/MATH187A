{
 "cells": [
  {
   "attachments": {},
   "cell_type": "markdown",
   "metadata": {},
   "source": [
    "# W9 Discussion \n",
    "\n",
    "## Agenda\n",
    "1. RSA\n",
    "2. Orders + Discrete Log\n",
    "3. Elgamal Diffie-Helman protocol"
   ]
  },
  {
   "attachments": {},
   "cell_type": "markdown",
   "metadata": {},
   "source": [
    "## RSA\n",
    "\n",
    "### Quiz pb 5\n",
    "- N=33\n",
    "- e=7\n",
    "\n",
    "Alice --> Bob: c = 2\n",
    "\n",
    "Goal: Find m"
   ]
  },
  {
   "cell_type": "code",
   "execution_count": 3,
   "metadata": {},
   "outputs": [
    {
     "name": "stdout",
     "output_type": "stream",
     "text": [
      "True\n"
     ]
    }
   ],
   "source": [
    "# First find d = e^-1 mod phi(N)\n",
    "# - factor N into pq\n",
    "# - calculate phi(pq)\n",
    "# - either guess or calculate ext_gcd(phi(N), e) to find d\n",
    "#   > e*d + k*phi(N) = 1\n",
    "N = 33\n",
    "p, q = 3, 11\n",
    "phi = 20\n",
    "c = 2\n",
    "\n",
    "print(3*7 - 20 == 1)\n",
    "d = 3\n",
    "\n",
    "cd = 8\n",
    "\n",
    "m = cd % N\n",
    "m = 8"
   ]
  },
  {
   "attachments": {},
   "cell_type": "markdown",
   "metadata": {},
   "source": [
    "### Practice problem\n",
    "\n",
    "Q: If Modulus is N, then what is the max characters encodable?\n",
    "\n",
    "Recall: enc/dec happens under mod $\\phi(N)$\n",
    "\n",
    "Also Recall: base 26 encoding\n",
    "\n",
    "> Example:\n",
    "> HOW = (7, 14, 22)\n",
    "> 7(26)^2 + 14(26)^1 + 22\n",
    "\n",
    "$\\phi(N)$ is the max VALUE you can encode\n",
    "\n",
    "The value of an m-character string will be at most (assuming ZZZZZZ): $\\sum_{k=0}^m 25*26^k$\n",
    "\n",
    "We can encode at most $log_{26}(N)$-character long strings"
   ]
  },
  {
   "cell_type": "code",
   "execution_count": 4,
   "metadata": {},
   "outputs": [
    {
     "data": {
      "text/plain": [
       "5118"
      ]
     },
     "execution_count": 4,
     "metadata": {},
     "output_type": "execute_result"
    }
   ],
   "source": [
    "7*26**2 + 14*26 + 22"
   ]
  },
  {
   "attachments": {},
   "cell_type": "markdown",
   "metadata": {},
   "source": [
    "### Problem 6\n",
    "\n",
    "N = 1225803\n",
    "e = 3\n",
    "\n",
    "Alice --> Bob: c = 5874008\n",
    "\n",
    "Eve notices:\n",
    " k  | c^k |\n",
    "--- | --- | ---\n",
    " 1  | c   | 5874008\n",
    " 3  | c^3 | 9773134\n",
    " 9  | c^9 | 7393148\n",
    " 27 | c^27| 4213805\n",
    " 81 | c^81| 5338692\n",
    " 243|c^243| 5874008\n",
    "\n",
    " Notice that:\n",
    "\n",
    " $$\n",
    " \\begin{align*}\n",
    " ed             &\\equiv 1 \\phi(N) \\\\\n",
    " c^{ed}         &\\equiv c^1 \\text{ mod } N \\\\\n",
    " c^{243}        &\\equiv (c^3)^{81} \\text{ mod } N \\\\\n",
    " c^{243}        &\\equiv c^{3*81} \\text{ mod } N\n",
    " \\end{align*}\n",
    " $$"
   ]
  },
  {
   "attachments": {},
   "cell_type": "markdown",
   "metadata": {},
   "source": [
    "## Orders\n",
    "Take \n",
    "\n",
    "- g, n > 2\n",
    "- gcd(g, n) = 1\n",
    "\n",
    "$k = ord_n(g)$ is smallest positive k such that $g^k \\equiv 1$ mod $n$\n",
    "\n",
    "Ex: Figure out why (gcd(g, n) = 1) implies existance of $ord_n(g)$?"
   ]
  },
  {
   "attachments": {},
   "cell_type": "markdown",
   "metadata": {},
   "source": [
    "### Example\n",
    "\n",
    "Just keep raising to powers until 1 is \"hit\" (use bin exp for larger nums)\n",
    "\n",
    "$$\n",
    "2^1 = 2\\\\\n",
    "2^2 = 4\\\\\n",
    "2^3 = 8 \\equiv 1 \\text{ mod } 7\n",
    "$$\n",
    "\n",
    "$Ord_7(2) = 3$"
   ]
  },
  {
   "attachments": {},
   "cell_type": "markdown",
   "metadata": {},
   "source": [
    "### Primitive root \n",
    "\n",
    "- n >= 2\n",
    "- gcd(g, n) = 1\n",
    "\n",
    "Def g is a primitive root mod n IFF $Ord_g(n) = \\phi(n)$"
   ]
  },
  {
   "attachments": {},
   "cell_type": "markdown",
   "metadata": {},
   "source": [
    "### Example\n",
    "\n",
    "$$\n",
    "3^1 = 3\\\\\n",
    "3^2 \\equiv 2\\\\\n",
    "3^3 \\equiv 6\\\\\n",
    "3^4 \\equiv 4\\\\\n",
    "3^5 \\equiv 5\\\\\n",
    "3^6 \\equiv 1\n",
    "$$\n",
    "\n",
    "$Ord_3(7) = 6$"
   ]
  },
  {
   "attachments": {},
   "cell_type": "markdown",
   "metadata": {},
   "source": [
    "### Thm \n",
    "\n",
    "If \n",
    "- g is a primitive root mod n,\n",
    "- gcd(a, g) = 1\n",
    "\n",
    "There exists\n",
    "- k > 0 s.t.\n",
    "- $g^k \\equiv a$ mod $n$\n",
    "\n",
    "Using the example from above, the discrete log base 3 under mod 7 can be calculated like:\n",
    "\n",
    "- $log_3(1) = 6$ mod 7\n",
    "- $log_3(2) = 2$ mod 7\n",
    "- $log_3(3) = 1$ mod 7\n",
    "- $log_3(4) = 4$ mod 7\n",
    "- $log_3(5) = 5$ mod 7\n",
    "- $log_3(6) = 3$ mod 7"
   ]
  }
 ],
 "metadata": {
  "kernelspec": {
   "display_name": "Python 3",
   "language": "python",
   "name": "python3"
  },
  "language_info": {
   "codemirror_mode": {
    "name": "ipython",
    "version": 3
   },
   "file_extension": ".py",
   "mimetype": "text/x-python",
   "name": "python",
   "nbconvert_exporter": "python",
   "pygments_lexer": "ipython3",
   "version": "3.10.1"
  },
  "orig_nbformat": 4,
  "vscode": {
   "interpreter": {
    "hash": "40430081c420884bc0c6cacdd19468c594457515a272ed1024804e3b83ddb8db"
   }
  }
 },
 "nbformat": 4,
 "nbformat_minor": 2
}
